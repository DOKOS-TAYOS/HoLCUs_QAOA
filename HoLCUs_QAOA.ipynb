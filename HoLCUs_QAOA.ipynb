{
  "nbformat": 4,
  "nbformat_minor": 0,
  "metadata": {
    "colab": {
      "provenance": [],
      "collapsed_sections": [
        "HrdWIBQdyJQ6",
        "A5IMM8vD1dGp",
        "1ZVtg_T61wO_",
        "b3Dpkzti0u-w",
        "Ek918ANC66vf",
        "uJ_6TKorjLis",
        "NKIidd6MEgew",
        "cNA7lgGxDzCs",
        "0Y9WjHJzRQEn",
        "NtOrHBHH9ExP",
        "Eu0ALPNZHvHD",
        "yJuXTclDJywh",
        "6eEVD0q5EgCa",
        "FvlyKgu8-oPg",
        "MmhELHOk_G84",
        "-F8vTn7j_50g",
        "eWqOaVl4AWOV",
        "WCKIs_VNC9Gb",
        "Pk8I0I1-DeOD",
        "9nuwrCal-N-h",
        "dBv6ArYVD8U_",
        "Nf5y3rZQLMSy",
        "fe1YOOJlut7L"
      ]
    },
    "kernelspec": {
      "name": "python3",
      "display_name": "Python 3"
    },
    "language_info": {
      "name": "python"
    }
  },
  "cells": [
    {
      "cell_type": "markdown",
      "source": [
        "# HoLCUs and QAOA"
      ],
      "metadata": {
        "id": "KfX-EXeQ3h4f"
      }
    },
    {
      "cell_type": "markdown",
      "source": [
        "Author: Alejandro Mata Ali (ITCL)"
      ],
      "metadata": {
        "id": "gRyKdbvn4CTE"
      }
    },
    {
      "cell_type": "markdown",
      "source": [
        "In this notebook we implement the HoLCUs QAOA algorithm to solve QUBO problems. It runs over classical simulators in Aersimulator. It is designed to run in Google Colab.\n",
        "\n",
        "We compare the execution time for the simple QAOA and the HoLCUs QAOA, without taking advantage of the repetition optimization for the HoLCUs."
      ],
      "metadata": {
        "id": "aMrk41Pi3k58"
      }
    },
    {
      "cell_type": "markdown",
      "source": [
        "## Packages"
      ],
      "metadata": {
        "id": "HrdWIBQdyJQ6"
      }
    },
    {
      "cell_type": "markdown",
      "source": [
        "The libraries we will use will be mainly Qiskit, to make the quantum circuits, qiskit-aer-gpu to be able to use a GPU, matplotlib and pylatexenc to graph the quantum circuits, numpy and math for the basics of calculation and scipy for the optimizer."
      ],
      "metadata": {
        "id": "mk_sUnLuyLO4"
      }
    },
    {
      "cell_type": "markdown",
      "source": [
        "For qiskit we will use version 1.3.2"
      ],
      "metadata": {
        "id": "Hpw68jq00HRm"
      }
    },
    {
      "cell_type": "code",
      "execution_count": 36,
      "metadata": {
        "id": "CHuqUQYF01w7"
      },
      "outputs": [],
      "source": [
        "%%capture\n",
        "!pip install qiskit==1.3.2\n",
        "!pip install matplotlib\n",
        "!pip install pylatexenc\n",
        "!pip install qiskit-aer-gpu"
      ]
    },
    {
      "cell_type": "code",
      "source": [
        "import numpy as np\n",
        "import math\n",
        "import matplotlib.pyplot as plt\n",
        "\n",
        "#Tools from Qiskit\n",
        "from qiskit import QuantumCircuit, QuantumRegister, ClassicalRegister, transpile\n",
        "from qiskit_aer import AerSimulator\n",
        "from qiskit.circuit import ParameterVector\n",
        "from qiskit.circuit.library import StatePreparation, ZGate\n",
        "from qiskit.visualization import plot_histogram\n",
        "\n",
        "# Optimizer\n",
        "from scipy.optimize import minimize\n",
        "\n",
        "# Time\n",
        "from time import perf_counter"
      ],
      "metadata": {
        "id": "-NsRq1ehy8HO"
      },
      "execution_count": 37,
      "outputs": []
    },
    {
      "cell_type": "markdown",
      "source": [
        "---\n",
        "# Cost functions"
      ],
      "metadata": {
        "id": "A5IMM8vD1dGp"
      }
    },
    {
      "cell_type": "markdown",
      "source": [
        "Let's start by defining a series of functions to calculate the cost of a combination and go from QUBO to Ising and vice versa."
      ],
      "metadata": {
        "id": "XUUjQRY01g73"
      }
    },
    {
      "cell_type": "markdown",
      "source": [
        "## Cost function calculator"
      ],
      "metadata": {
        "id": "1ZVtg_T61wO_"
      }
    },
    {
      "cell_type": "markdown",
      "source": [
        "Given a cost matrix Q and an input vector x, compute the cost of the vector using\n",
        "\n",
        "$C(\\vec{x})=\\vec{x}^T Q \\vec{x}$.\n",
        "\n",
        "Here we work with the QUBO matrix.\n",
        "\n",
        "Input:\n",
        "- x: binary vector.\n",
        "- Q: cost matrix.\n",
        "\n",
        "Return:\n",
        "- Cost of the combination."
      ],
      "metadata": {
        "id": "VHpQVorf11Ea"
      }
    },
    {
      "cell_type": "code",
      "source": [
        "def cost_function(x:np.array, Q:np.array) -> float: #string, matrix -> value\n",
        "    '''Calculates the cost of a solution.\n",
        "    Input:\n",
        "    - x: binary vector.\n",
        "    - Q: cost matrix.\n",
        "\n",
        "    Return:\n",
        "    - Cost of the combination.'''\n",
        "    cost = 0\n",
        "\n",
        "    if type(x[0]) == str: x = np.array([ int(i) for i in x ])\n",
        "\n",
        "    for i, _x1 in enumerate(x):#Left\n",
        "        for j, _x2 in enumerate(x[i:]):#Right (no repetition)\n",
        "            if _x1 == 1 and _x2 == 1:\n",
        "                cost += Q[i,i+j]\n",
        "    return coste"
      ],
      "metadata": {
        "id": "Z_Dw-3cq1LqT"
      },
      "execution_count": 38,
      "outputs": []
    },
    {
      "cell_type": "markdown",
      "metadata": {
        "id": "b3Dpkzti0u-w"
      },
      "source": [
        "## QUBO to Ising Mapper"
      ]
    },
    {
      "cell_type": "markdown",
      "metadata": {
        "id": "TPeoip9w0xpP"
      },
      "source": [
        "This function will be in charge of mapping the QUBO problem to an Ising problem. It receives the QUBO matrix and returns the corresponding Ising."
      ]
    },
    {
      "cell_type": "code",
      "execution_count": 39,
      "metadata": {
        "id": "73vzDx6f01oC"
      },
      "outputs": [],
      "source": [
        "def Qubo_To_Ising(Q_qubo:np.array)-> np.array:\n",
        "    '''This function maps the QUBO matrix to Ising matrix.\n",
        "        H=Sum_[i](a_ii*x_i)+Sum_[i<j][a_ij*x_i*x_j] -> H=Sum_[i](b_ii*Z_i)+Sum_[i<j][b_ij*Z_i*Z_j]\n",
        "        As x\\in{0,1} y Z\\in{1,-1}, x=(I-Z)/2. For the linear terms we ignore the additive constant and the following remains xi -> -Zi/2\n",
        "        Then, b_ii+=(-1/2)a_ii\n",
        "\n",
        "        The quadratics are (I_i-Z_i)/2*(I_j-Z_j)/2= (I_i*I_j-Z_i-Z_j+Z_i*Z_j)/4, then x_i*x_j -> (-Z_i-Z_j+Z_i*Z_j)/4\n",
        "        Then, b_ii+=(-1/4)a_ij, b_jj+=(-1/4)a_ij and b_ij+=(+1/4)a_ij\n",
        "\n",
        "        Input:\n",
        "        - Q_qubo: QUBO matrix.\n",
        "        Returns:\n",
        "        - Ising matrix.'''\n",
        "\n",
        "    d = Q_qubo.shape[0]\n",
        "    Q_ising = np.zeros((d,d), dtype=float)\n",
        "\n",
        "    for i in range(d):\n",
        "        Q_ising[i][i] -= Q_qubo[i][i]/2       #b_ii+=(-1/2)a_ii\n",
        "        for j in range(i+1,d):\n",
        "            Q_ising[i][i] -=  Q_qubo[i][j]/4  #b_ii+=(-1/4)a_ij\n",
        "            Q_ising[j][j] -=  Q_qubo[i][j]/4  #b_jj+=(-1/4)a_ij\n",
        "            Q_ising[i][j] += +Q_qubo[i][j]/4  #b_ij+=(+1/4)a_ij\n",
        "\n",
        "    for i in range(d):# Make the simmetrization\n",
        "        for j in range(i+1,d):\n",
        "            Q_ising[j][i]  =  Q_ising[i][j]\n",
        "\n",
        "    return Q_ising"
      ]
    },
    {
      "cell_type": "markdown",
      "metadata": {
        "id": "Ek918ANC66vf"
      },
      "source": [
        "## Ising to Z Strings"
      ]
    },
    {
      "cell_type": "markdown",
      "metadata": {
        "id": "1-OJolBC6-1n"
      },
      "source": [
        "This function passes the Ising matrix a list system. I do this so that the QAOA can read it more easily and generalize to other gates more easily.\n"
      ]
    },
    {
      "cell_type": "code",
      "execution_count": 40,
      "metadata": {
        "id": "9cgfRbgO-Z1Q"
      },
      "outputs": [],
      "source": [
        "def Q_matrix_To_Ising_List(Q_ising:np.array)-> np.array:\n",
        "    '''We pass the Ising matrix to list.\n",
        "    Input:\n",
        "    - Q_ising: cost matrix.\n",
        "\n",
        "    Returns:\n",
        "    - List of Ising elements of the problem. Its elements are:\n",
        "        [list_of_Z_gate_positions, coefficient] For each Pauli string.'''\n",
        "\n",
        "    d = Q_ising.shape[0]\n",
        "    list_ising = []\n",
        "    for i in range(d):\n",
        "        qubits = [i]# The diagonal term is just a Z\n",
        "        coef = Q_ising[i][i]# We obtain the coefficient that multiplies the string\n",
        "        if coef != 0: list_ising.append([qubits, coef])\n",
        "\n",
        "        for j in range(i+1,d):# To choose the upper triangleTo choose the upper triangle\n",
        "            qubits = [i,j]# Double Z\n",
        "            coef = Q_ising[i][j]\n",
        "            if coef != 0: list_ising.append([qubits, coef])\n",
        "\n",
        "    return list_ising"
      ]
    },
    {
      "cell_type": "markdown",
      "metadata": {
        "id": "eLpeVp2qDrQa"
      },
      "source": [
        "And some functions to go from list to dictionary and vice versa."
      ]
    },
    {
      "cell_type": "code",
      "execution_count": 41,
      "metadata": {
        "id": "kt-GRWKK697P"
      },
      "outputs": [],
      "source": [
        "def Z_Ising_to_Dict(Z_Ising: list) -> dict:\n",
        "    '''Function that creates a dictionary from Ising lists.\n",
        "    Args:\n",
        "    - Z_Ising: list with the Z elements and positions.\n",
        "\n",
        "    Retuns:\n",
        "    - Dictionary.'''\n",
        "\n",
        "    dicto = {}\n",
        "    for term in Z_Ising:\n",
        "        qubits = str(term[0])# Positions as str\n",
        "        coef = term[1]\n",
        "        dicto[qubits] = coef\n",
        "\n",
        "    return dicto\n",
        "\n",
        "def Z_Ising_to_List(Z_Ising_dict: dict) -> list:\n",
        "    '''Function that creates lists from the Ising dictionary.\n",
        "    Args:\n",
        "    - Z_Ising: dictionary with the elements and positions of the Z's.\n",
        "\n",
        "    Retuns:\n",
        "    - List.'''\n",
        "\n",
        "    l = []\n",
        "    for key in Z_Ising_dict:\n",
        "        qubits = [ int(character) for character in key if character.isnumeric() ]# For each character of the string\n",
        "        coef = Z_Ising_dict[key]\n",
        "        l.append([qubits, coef])\n",
        "    return l"
      ]
    },
    {
      "cell_type": "markdown",
      "metadata": {
        "id": "uJ_6TKorjLis"
      },
      "source": [
        "---\n",
        "# QAOA Circuit"
      ]
    },
    {
      "cell_type": "markdown",
      "source": [
        "Let's make the functions that create the QAOA circuits we need."
      ],
      "metadata": {
        "id": "Hqz28nFyEakA"
      }
    },
    {
      "cell_type": "markdown",
      "source": [
        "## Main circuit"
      ],
      "metadata": {
        "id": "NKIidd6MEgew"
      }
    },
    {
      "cell_type": "markdown",
      "metadata": {
        "id": "QqFuYSKFjNg7"
      },
      "source": [
        "Function that creates the QAOA parametric circuit with the extra qubit for the Hadamard Test."
      ]
    },
    {
      "cell_type": "code",
      "execution_count": 42,
      "metadata": {
        "id": "fqpxOBnYbLA8"
      },
      "outputs": [],
      "source": [
        "def QAOA_circuit(n_qubits:int, Z_Ising:list, n_layers:int) -> QuantumCircuit:\n",
        "    '''Function that creates the QAOA circuit with the extra qubit for the Hadamard Test.\n",
        "    Input:\n",
        "    - n_qubits: number of qubits for the circuit.\n",
        "    - Z_Ising: list of Ising Strings.\n",
        "    - n_layers: number of layers of the QAOA.\n",
        "\n",
        "    Returns:\n",
        "    - QAOA circuit with the Hadamard Test ring.'''\n",
        "    #Parameters\n",
        "    angles = ParameterVector(f'angles', 2*n_layers)# One for beta and one for gamma\n",
        "\n",
        "    #--------------------------------------------------------------------------\n",
        "    qh = QuantumRegister( 1, 'H' )#Ancilla for Hadamard\n",
        "    qr = QuantumRegister(n_qubits, 'q')\n",
        "    cr = ClassicalRegister(1, 'c_H' )\n",
        "    qc = QuantumCircuit(qh, qr, cr, name='Ising')\n",
        "\n",
        "    qc.h(qh)\n",
        "    qc.h(qr)\n",
        "\n",
        "    for l in range(n_layers):\n",
        "        for elem in Z_Ising:\n",
        "            if len(elem[0]) == 1:# Z\n",
        "                qc.rz(angles[n_layers+l]*elem[1], 1+elem[0][0])\n",
        "\n",
        "        for elem in Z_Ising:# ZZ\n",
        "            if len(elem[0]) == 2:\n",
        "                qc.rzz(angles[n_layers+l]*elem[1], 1+elem[0][0], 1+elem[0][1])\n",
        "\n",
        "        for i in range(n_qubits):# Mixer\n",
        "            qc.rx(2*angles[l], 1+i, label=None)\n",
        "\n",
        "    #Pretranspilamos esta parte ya\n",
        "    qa = transpile(qc, AerSimulator(), optimization_level=2)\n",
        "\n",
        "    return qa"
      ]
    },
    {
      "cell_type": "markdown",
      "source": [
        "## Function adding the Hadamard Test to the circuit"
      ],
      "metadata": {
        "id": "cNA7lgGxDzCs"
      }
    },
    {
      "cell_type": "markdown",
      "source": [
        "This function adds the Hadamard Test of an operator according to a list of Z positions.\n",
        "\n",
        "Input:\n",
        "- qc: circuit of the QAOA with the H qubit initialized.\n",
        "- positions: positions of the Z gates.\n",
        "Returns:\n",
        "- Parameterized total circuit."
      ],
      "metadata": {
        "id": "Av96OSJ5D4ax"
      }
    },
    {
      "cell_type": "code",
      "execution_count": 43,
      "metadata": {
        "id": "WbbHCrvGSFux"
      },
      "outputs": [],
      "source": [
        "def H_evaluator(qc:QuantumCircuit, positions:list) -> QuantumCircuit:\n",
        "    '''Function that generates the Hadamard Test part for a z operator.\n",
        "    Input:\n",
        "    - qc: circuit of the QAOA with the H qubit initialized.\n",
        "    - positions: positions of the Z gates.\n",
        "    Returns:\n",
        "    - Parameterized total circuit.'''\n",
        "\n",
        "    for i in positions:\n",
        "        qc.cz(0, 1+i)\n",
        "\n",
        "    qc.h(0)\n",
        "    qc.measure(0, 0)\n",
        "\n",
        "    qa = transpile(qc, AerSimulator(), optimization_level=2)\n",
        "\n",
        "    return qa"
      ]
    },
    {
      "cell_type": "markdown",
      "metadata": {
        "id": "0Y9WjHJzRQEn"
      },
      "source": [
        "## Circuit generator function"
      ]
    },
    {
      "cell_type": "markdown",
      "metadata": {
        "id": "nkwj88QERRvo"
      },
      "source": [
        "Function that generates all necessary QAOA circuits.\n",
        "\n",
        "Input:\n",
        "- Z_Ising: list of Ising terms.\n",
        "- n_qubits: number of QAOA qubits.\n",
        "- n_layers: number of layers in the QAOA.\n",
        "\n",
        "Return:\n",
        "- Parameterized quantum circuit."
      ]
    },
    {
      "cell_type": "code",
      "execution_count": 44,
      "metadata": {
        "id": "55jEU3KjKCgh"
      },
      "outputs": [],
      "source": [
        "def Ising_QAOA_Circuits(Z_Ising:list, n_qubits:int, n_layers:int):\n",
        "    '''Function that generates the parametric QAOA circuits with each Z string and the H-Test.\n",
        "    Input:\n",
        "    - Z_Ising: list of Ising terms.\n",
        "    - n_qubits: number of QAOA qubits.\n",
        "    - n_layers: number of layers in the QAOA.\n",
        "\n",
        "    Return:\n",
        "    - Parameterized quantum circuit.'''\n",
        "    # Base circuit\n",
        "    qc = QAOA_circuit(n_qubits, Z_Ising, n_layers)\n",
        "\n",
        "    # One circuit for each string\n",
        "    qc_H = []\n",
        "    for _s, string in enumerate(Z_Ising):\n",
        "        qc_H.append(H_evaluator(qc.copy(), string[0]))\n",
        "\n",
        "    return qc_H\n"
      ]
    },
    {
      "cell_type": "markdown",
      "metadata": {
        "id": "NtOrHBHH9ExP"
      },
      "source": [
        "---\n",
        "# Execution and processing of results"
      ]
    },
    {
      "cell_type": "markdown",
      "source": [
        "Functions that execute the circuit and process results."
      ],
      "metadata": {
        "id": "B9ulI2eNHwbR"
      }
    },
    {
      "cell_type": "markdown",
      "source": [
        "## Evaluator"
      ],
      "metadata": {
        "id": "Eu0ALPNZHvHD"
      }
    },
    {
      "cell_type": "markdown",
      "metadata": {
        "id": "tz8ZxuH_9HfG"
      },
      "source": [
        "This will be a function to measure the qubits needed given a given Zstring and process the result.\n",
        "\n",
        "Input:\n",
        "- angles: angles for the QAOA.\n",
        "- qc: Parametric quantum circuit with the H-Test already added (that's why it doesn't need the string).\n",
        "- normalization: coefficient with which this string goes.\n",
        "- shots: number of shots.\n",
        "- sim: backend.\n",
        "\n",
        "returns:\n",
        "- Expected value for that string."
      ]
    },
    {
      "cell_type": "code",
      "execution_count": 45,
      "metadata": {
        "id": "m-Xt6L_td-x9"
      },
      "outputs": [],
      "source": [
        "def evaluator_string(angles:np.array, qc:QuantumCircuit, normalization:float,\n",
        "              shots:int, sim) -> float:\n",
        "    '''Function that executes the QAOA with H-Test and returns the expected value of that string.\n",
        "    Input:\n",
        "    - angles: angles for the QAOA.\n",
        "    - qc: Parametric quantum circuit with the H-Test already added (that's why it doesn't need the string).\n",
        "    - normalization: coefficient with which this string goes.\n",
        "    - shots: number of shots.\n",
        "    - sim: backend.\n",
        "\n",
        "    returns:\n",
        "    - Expected value for that string.'''\n",
        "\n",
        "    qa = qc.assign_parameters(angles, inplace=False)\n",
        "\n",
        "    counts_dict = sim.run(qa, shots=shots).result().get_counts()\n",
        "\n",
        "    expected = (2*(counts_dict['0'] / shots) - 1 ) * normalization\n",
        "\n",
        "    return expected\n"
      ]
    },
    {
      "cell_type": "markdown",
      "source": [
        "## Global evaluator"
      ],
      "metadata": {
        "id": "yJuXTclDJywh"
      }
    },
    {
      "cell_type": "markdown",
      "source": [
        "This function executes each particular string evaluator and collects all the results."
      ],
      "metadata": {
        "id": "w7WjS3OzKCoA"
      }
    },
    {
      "cell_type": "code",
      "source": [
        "def evaluator(angles:np.array, qc_H:list, Z_Ising:list,\n",
        "              shots:int, sim) -> float:\n",
        "    '''Function that runs the QAOA with H-Test and returns the expected value for each string and sums them.\n",
        "    Input:\n",
        "    - angles: angles for the QAOA.\n",
        "    - qc_H: list of parametric quantum circuits with the H-Test already added (that's why it doesn't need the string).\n",
        "    - Z_Ising: list of Ising elements.\n",
        "    - shots: number of shots.\n",
        "    - sim: backend.\n",
        "\n",
        "    Returns:\n",
        "    - Expected value for the set of strings.'''\n",
        "\n",
        "    expected_total = 0\n",
        "\n",
        "    for _, coef in enumerate(Z_Ising):\n",
        "        expected_total += evaluator_string(angles, qc_H[_], coef[1], shots=shots, sim=sim)\n",
        "\n",
        "    return expected_total"
      ],
      "metadata": {
        "id": "UhpYmI5yJydo"
      },
      "execution_count": 46,
      "outputs": []
    },
    {
      "cell_type": "markdown",
      "metadata": {
        "id": "b7Iq-SAaUobe"
      },
      "source": [
        "We use a nested function to be able to introduce it in the minimize."
      ]
    },
    {
      "cell_type": "code",
      "execution_count": 47,
      "metadata": {
        "id": "F_HUgheLTwZB"
      },
      "outputs": [],
      "source": [
        "def QAOA(qc_H:list, Z_Ising:list, shots:int=1024,\n",
        "         sim=AerSimulator(device='GPU', max_parallel_shots=0, max_parallel_threads=0)):\n",
        "    def function(angles:np.array):\n",
        "        return evaluator(angles, qc_H, Z_Ising, shots=shots, sim=sim)\n",
        "    return function"
      ]
    },
    {
      "cell_type": "markdown",
      "metadata": {
        "id": "6eEVD0q5EgCa"
      },
      "source": [
        "---\n",
        "# **QUBO Solver Function**"
      ]
    },
    {
      "cell_type": "markdown",
      "metadata": {
        "id": "JaJLgDTiEs_D"
      },
      "source": [
        "Let's create a general function that receives the QUBO and solves it directly. Since we do not care about the solutions, but only about the time required to reach them with a given tolerance ($10^{-8}$), we will return only the time required from the beginning of the process."
      ]
    },
    {
      "cell_type": "code",
      "execution_count": 48,
      "metadata": {
        "id": "BFUMofiyExm8"
      },
      "outputs": [],
      "source": [
        "def QUBO_Solver(Q_QUBO: np.array, n_layers:int=2, n_tries:int=4, shots:int=1e5,\n",
        "                verbose:bool=True, sim=AerSimulator(device='GPU', max_parallel_shots=0, max_parallel_threads=0)) -> float:\n",
        "    '''This function implements the solving of a QUBO problem via QAOA+Hadamard test.\n",
        "    Input:\n",
        "    - Q_QUBO: QUBO cost matrix.\n",
        "    - n_layers: number of layers of the QAOA.\n",
        "    - n_tries: number of different initializations.\n",
        "    - shots: number of shots.\n",
        "    - verbose: True if we want to monitor the problem.\n",
        "    - sim: backend.\n",
        "    return:\n",
        "    - Time to complete.'''\n",
        "\n",
        "    n_qubits = len(Q_QUBO)\n",
        "    # We create the Ising\n",
        "    Q_Ising = Qubo_To_Ising(Q_QUBO)\n",
        "    Z_Ising = Q_matrix_To_Ising_List(Q_Ising)\n",
        "\n",
        "    # Start point\n",
        "    initial_time = perf_counter()\n",
        "\n",
        "    # We create the parametric circuits\n",
        "    qc_H = Ising_QAOA_Circuits(Z_Ising, n_qubits, n_layers)\n",
        "\n",
        "    # We create the function to be introduced in the optimizer\n",
        "    circuit = QAOA(qc_H, Z_Ising, shots=shots, sim=sim)\n",
        "\n",
        "    # Optimization process\n",
        "    for i in range(n_tries):#Varias inicializaciones posibles\n",
        "        if verbose: print('Try ', i+1, ' of ', n_tries)\n",
        "        #Inicializacion entre 0 y pi\n",
        "        angles = np.random.rand(2*n_layers)*np.pi\n",
        "        #Optimizador\n",
        "        res    = minimize(circuit, angles, method='COBYLA', tol = 1e-8)\n",
        "\n",
        "    # Final point\n",
        "    final_time = perf_counter() - initial_time\n",
        "\n",
        "    return final_time"
      ]
    },
    {
      "cell_type": "markdown",
      "source": [
        "---\n",
        "# HoLCUs QAOA"
      ],
      "metadata": {
        "id": "FvlyKgu8-oPg"
      }
    },
    {
      "cell_type": "markdown",
      "source": [
        "## Z strings classifier"
      ],
      "metadata": {
        "id": "MmhELHOk_G84"
      }
    },
    {
      "cell_type": "code",
      "source": [
        "def clas_Z_Strings(Z_Ising: list):\n",
        "    '''This function normalizes the coefficients for the HoLCUs\n",
        "        and groups the type of gates.\n",
        "    Args:\n",
        "        Z_Ising: list of positions and coefficients for the QAOA gates.\n",
        "\n",
        "    Returns:\n",
        "        Coefficients.\n",
        "        Phases of the coefficients.\n",
        "        Number of ancillas needed for the LCU.\n",
        "        Number of 1 or 2 Z gates.\n",
        "        Position of the gates.\n",
        "        Normalization factor.\n",
        "        '''\n",
        "    # Normalization\n",
        "    normalization = 1\n",
        "    n_ancillas = int(np.ceil(np.log2(len(Z_Ising))))\n",
        "    coefs = np.zeros(2**n_ancillas)\n",
        "    positions = [None]*2**n_ancillas\n",
        "    n_ind, n_dob = 0, 0\n",
        "\n",
        "    # Z\n",
        "    i = 0# Index\n",
        "    for elem in Z_Ising:\n",
        "        if len(elem[0]) == 1:\n",
        "            coefs[-1-i] = elem[1]\n",
        "            positions[i] = [n_ancillas + 1 + elem[0][0]]\n",
        "            i += 1\n",
        "\n",
        "    n_ind = i\n",
        "\n",
        "    # ZZ\n",
        "    for elem in Z_Ising:\n",
        "        if len(elem[0]) == 2:\n",
        "            coefs[-1-i] = elem[1]\n",
        "            positions[i] = [ elem[0][0] + n_ancillas + 1, elem[0][1] + n_ancillas + 1]\n",
        "            i += 1\n",
        "\n",
        "    n_dob = i - n_ind\n",
        "\n",
        "    n_type = [n_ind, n_dob]\n",
        "    phases = np.sign(coefs)\n",
        "    coefs = abs(coefs)\n",
        "\n",
        "    normalizacion = sum(coefs)\n",
        "    coefs = np.sqrt(coefs / normalizacion)\n",
        "\n",
        "    return coefs, phases, n_ancillas, n_type, positions, normalizacion"
      ],
      "metadata": {
        "id": "YAbBG-qd_WH0"
      },
      "execution_count": 49,
      "outputs": []
    },
    {
      "cell_type": "markdown",
      "source": [
        "## Main circuit"
      ],
      "metadata": {
        "id": "-F8vTn7j_50g"
      }
    },
    {
      "cell_type": "code",
      "source": [
        "def HoLCUs_QAOA_circuit(n_qubits:int, Z_Ising:list, n_layers:int) -> QuantumCircuit:\n",
        "    '''Function that creates the QAOA circuit with the extra qubit for the Hadamard Test.\n",
        "    Input:\n",
        "    - n_qubits: number of qubits for the circuit.\n",
        "    - Z_Ising: list of Ising Strings.\n",
        "    - n_layers: number of layers of the QAOA.\n",
        "\n",
        "    Returns:\n",
        "    - QAOA circuit with the Hadamard Test ring.'''\n",
        "    #Parameters\n",
        "    angles = ParameterVector(f'angles', 2*n_layers)# One for beta and one for gamma\n",
        "    n_ancillas = int(np.ceil(np.log2(len(Z_Ising))))\n",
        "\n",
        "    #--------------------------------------------------------------------------\n",
        "    qh = QuantumRegister( 1, 'H' )#Ancilla for Hadamard\n",
        "    qan = QuantumRegister(n_ancillas, 'LCU')#Ancillas for the LCU\n",
        "    qr = QuantumRegister(n_qubits, 'q')\n",
        "    cr = ClassicalRegister(1, 'c_H' )\n",
        "    qc = QuantumCircuit(qh, qan, qr, cr, name='Ising')\n",
        "\n",
        "    qc.h(qh)\n",
        "    qc.h(qr)\n",
        "\n",
        "    for l in range(n_layers):\n",
        "        for elem in Z_Ising:\n",
        "            if len(elem[0]) == 1:# Z\n",
        "                qc.rz(angles[n_layers+l]*elem[1], 1+n_ancillas+elem[0][0])\n",
        "\n",
        "        for elem in Z_Ising:# ZZ\n",
        "            if len(elem[0]) == 2:\n",
        "                qc.rzz(angles[n_layers+l]*elem[1], 1+n_ancillas+elem[0][0], 1+n_ancillas+elem[0][1])\n",
        "\n",
        "        for i in range(n_qubits):# Mixer\n",
        "            qc.rx(2*angles[l], 1+n_ancillas+i, label=None)\n",
        "\n",
        "    #Pretranspilamos esta parte ya\n",
        "    qa = transpile(qc, AerSimulator(), optimization_level=2)\n",
        "\n",
        "    return qa"
      ],
      "metadata": {
        "id": "urLVkDOU_WDR"
      },
      "execution_count": 50,
      "outputs": []
    },
    {
      "cell_type": "markdown",
      "source": [
        "## LCU evaluator"
      ],
      "metadata": {
        "id": "eWqOaVl4AWOV"
      }
    },
    {
      "cell_type": "code",
      "source": [
        "def LCU_evaluator(qc:QuantumCircuit, n_ancillas:int, coefs:np.array,\n",
        "                  phases:np.array, n_type:list, positions:list) -> QuantumCircuit:\n",
        "    '''Function which generates the LCu subcircuit applied to the original circuit.\n",
        "    Args:\n",
        "        qc: QuantumCircuit with the QAOA part and the hadamard initialization applied.\n",
        "        n_ancillas: number of ancillas for the LCU.\n",
        "        coefs: coefficients for the LCU.\n",
        "        phases: phases of the coefficients.\n",
        "        n_type: list of number of individual or double Z gates.\n",
        "        positions: position of those gates.\n",
        "    Returns:\n",
        "        Quantum parametrized Circuit.'''\n",
        "\n",
        "    n_qubits = qc.num_qubits-n_ancillas-1\n",
        "    qr_H = QuantumRegister(1, 'H')[:]\n",
        "    qr_LCU = QuantumRegister(n_ancillas, 'LCU')[::]\n",
        "\n",
        "    ancilla_list = list(np.arange(1,n_ancillas+1, dtype=int))\n",
        "\n",
        "    #V and V dagger gates\n",
        "    U_gate = StatePreparation(phases*coefs).control(1)\n",
        "    V_gate_inv = StatePreparation(coefs).inverse().control(1)\n",
        "\n",
        "    #Controlled Z and ZZ gates\n",
        "    c_z_0 = ZGate().control(n_ancillas+1)\n",
        "    c_z = ZGate().control(n_ancillas)\n",
        "\n",
        "    qc.append(U_gate, qr_H + qr_LCU)\n",
        "\n",
        "    longitude = '0'+str(n_ancillas)+'b'\n",
        "\n",
        "\n",
        "    for i in range(n_type[0]):# cZ\n",
        "        ancilla = [ _i for _i, _ in enumerate(format(2**n_ancillas-1-i, longitude)[::-1]) if int(_) == 0 ]\n",
        "        for j in ancilla: qc.x(qr_LCU[j])\n",
        "        if i != 2**n_ancillas-1: qc.append(c_z, qr_LCU + positions[i])\n",
        "        else:                    qc.append(c_z_0, qr_H + qr_LCU + positions[i])\n",
        "        for j in ancilla: qc.x(qr_LCU[j])\n",
        "\n",
        "    for i in range(n_type[0], n_type[0]+n_type[1]):# cZZ\n",
        "        ancilla = [ _i for _i, _ in enumerate(format(2**n_ancillas-1-i, longitude)[::-1]) if int(_) == 0 ]\n",
        "        for j in ancilla: qc.x(qr_LCU[j])\n",
        "        if i != 2**n_ancillas-1:\n",
        "            qc.append(c_z, qr_LCU + [positions[i][0]])\n",
        "            qc.append(c_z, qr_LCU + [positions[i][1]])\n",
        "        else:\n",
        "            qc.append(c_z_0, qr_H + qr_LCU + [positions[i][0]])\n",
        "            qc.append(c_z_0, qr_H + qr_LCU + [positions[i][1]])\n",
        "        for j in ancilla: qc.x(qr_LCU[j])\n",
        "\n",
        "    #Final step\n",
        "    qc.append(V_gate_inv, qr_H + qr_LCU)\n",
        "\n",
        "    #qc.s(qr_H)#Imaginary part\n",
        "    qc.h(qr_H)\n",
        "\n",
        "    qc.measure(qr_H, 0)#We measure the ancillas\n",
        "\n",
        "    #We decompose certain gates for backend interpretation\n",
        "    c_z_names = 'c'+str(n_ancillas)+'z'\n",
        "    c_z_0_names = 'c'+str(n_ancillas+1)+'z'\n",
        "\n",
        "    qc = qc.decompose(['cstate_preparation', 'cstate_preparation_dg', c_z_names, c_z_0_names, 'ccz'])\n",
        "\n",
        "    qa = transpile(qc, AerSimulator(), optimization_level=2)\n",
        "\n",
        "    return qa"
      ],
      "metadata": {
        "id": "5vfxe1zeAY3n"
      },
      "execution_count": 51,
      "outputs": []
    },
    {
      "cell_type": "markdown",
      "source": [
        "## Evaluator"
      ],
      "metadata": {
        "id": "WCKIs_VNC9Gb"
      }
    },
    {
      "cell_type": "code",
      "source": [
        "def HoLCUs_evaluator(angles:np.array, qc:QuantumCircuit, normalization:float,\n",
        "              shots:int=1024, sim=AerSimulator()) -> float:\n",
        "    '''Function which executes the QAOA+LCU-Hadamard circuit and get the counts\n",
        "    for the expectation value.\n",
        "    Args:\n",
        "        angles: angles for the QAOA.\n",
        "        qc: Quantum Parametric Circuit with the QAOA and the LCU part.\n",
        "        normalizacion: normalization factor extracted for the LCU part.\n",
        "        shots: number of shots.\n",
        "        sim: backend.\n",
        "\n",
        "    Returns:\n",
        "        Expected value of the LCU for the QAOA State.'''\n",
        "\n",
        "    # Assign parameter values\n",
        "    qa = qc.assign_parameters(angles, inplace=False)\n",
        "\n",
        "    counts_dict = sim.run(qa, shots=shots).result().get_counts()\n",
        "\n",
        "    # Expected value\n",
        "    expected = (2*(counts_dict['0'] / shots) - 1 ) * normalization\n",
        "\n",
        "    return expected"
      ],
      "metadata": {
        "id": "l97J9_PwC-U6"
      },
      "execution_count": 52,
      "outputs": []
    },
    {
      "cell_type": "markdown",
      "source": [
        "## Join"
      ],
      "metadata": {
        "id": "Pk8I0I1-DeOD"
      }
    },
    {
      "cell_type": "code",
      "source": [
        "def Ising_HoLCUs_QAOA_Circuits(Z_Ising:list, n_qubits:int, n_layers:int):\n",
        "    '''Function which creates the QAOA circuit with the LCU-Hadamard.\n",
        "    Args:\n",
        "        Z_Ising: list of Ising terms and gate positions.\n",
        "        n_qubits: number of qubits for the QAOA.\n",
        "        n_layers: number of layers for the QAOA.\n",
        "\n",
        "    Return:\n",
        "        Quantum Parametrized Circuit.\n",
        "        Normalization factor.'''\n",
        "    #Creamos el circuito base.\n",
        "    qc = HoLCUs_QAOA_circuit(n_qubits, Z_Ising, n_layers)\n",
        "\n",
        "    #Aplicamos el clasificador para obtener la informacion\n",
        "    coefs, phases, n_ancillas, n_type, positions, normalization = clas_Z_Strings(Z_Ising)\n",
        "\n",
        "    #LCU+Hadamard part\n",
        "    qc = LCU_evaluator(qc, n_ancillas, coefs, phases, n_type, positions)\n",
        "\n",
        "    return qc, normalization\n"
      ],
      "metadata": {
        "id": "JVXTr-czDfOi"
      },
      "execution_count": 53,
      "outputs": []
    },
    {
      "cell_type": "markdown",
      "source": [
        "## Global function"
      ],
      "metadata": {
        "id": "6anpGy5x_Fa8"
      }
    },
    {
      "cell_type": "code",
      "source": [
        "def HoLCUs_QUBO_Solver(Q_QUBO: np.array, n_layers:int=2, n_tries:int=4, shots:int=1e5,\n",
        "                verbose:bool=True, sim=AerSimulator(device='GPU', max_parallel_shots=0, max_parallel_threads=0)) -> float:\n",
        "    '''This function implements the solving of a QUBO problem via HoLCUs+QAOA.\n",
        "    Input:\n",
        "    - Q_QUBO: QUBO cost matrix.\n",
        "    - n_layers: number of layers of the QAOA.\n",
        "    - n_tries: number of different initializations.\n",
        "    - shots: number of shots.\n",
        "    - verbose: True if we want to monitor the problem.\n",
        "    - sim: backend.\n",
        "    return:\n",
        "    - Time to complete.'''\n",
        "\n",
        "    n_qubits = len(Q_QUBO)\n",
        "    # We create the Ising\n",
        "    Q_Ising = Qubo_To_Ising(Q_QUBO)\n",
        "    Z_Ising = Q_matrix_To_Ising_List(Q_Ising)\n",
        "\n",
        "    # Start point\n",
        "    initial_time = perf_counter()\n",
        "\n",
        "    # We create the parametric circuits\n",
        "    qc_H, normalization = Ising_HoLCUs_QAOA_Circuits(Z_Ising, n_qubits, n_layers)\n",
        "\n",
        "    # We create the function to be introduced in the optimizer\n",
        "    circuit = HoLCUs_QAOA(qc_H, normalization, shots=shots, sim=sim)\n",
        "\n",
        "    # Optimization process\n",
        "    for i in range(n_tries):#Varias inicializaciones posibles\n",
        "        if verbose: print('Try ', i+1, ' of ', n_tries)\n",
        "        #Inicializacion entre 0 y pi\n",
        "        angles = np.random.rand(2*n_layers)*np.pi\n",
        "        #Optimizador\n",
        "        res    = minimize(circuit, angles, method='COBYLA', tol = 1e-8)\n",
        "\n",
        "    # Final point\n",
        "    final_time = perf_counter() - initial_time\n",
        "\n",
        "    return final_time"
      ],
      "metadata": {
        "id": "QJXoDHF--rwh"
      },
      "execution_count": 54,
      "outputs": []
    },
    {
      "cell_type": "markdown",
      "metadata": {
        "id": "0xZpKsDo_LOq"
      },
      "source": [
        "We use a nested function to be able to introduce it in the minimize."
      ]
    },
    {
      "cell_type": "code",
      "execution_count": 55,
      "metadata": {
        "id": "mZhoqiAr_LOq"
      },
      "outputs": [],
      "source": [
        "def HoLCUs_QAOA(qc:QuantumCircuit, normalization:float, shots:int=1024,\n",
        "         sim=AerSimulator(device='GPU', max_parallel_shots=0, max_parallel_threads=0)):\n",
        "    def function(angles:np.array):\n",
        "        return HoLCUs_evaluator(angles, qc, normalization, shots=shots, sim=sim)\n",
        "    return function"
      ]
    },
    {
      "cell_type": "markdown",
      "source": [
        "---\n",
        "# Random QUBO matrix generator"
      ],
      "metadata": {
        "id": "9nuwrCal-N-h"
      }
    },
    {
      "cell_type": "code",
      "source": [
        "def random_QUBO(n:int, range_scale:float=2):\n",
        "    Q_qubo = range_scale*(2*np.random.rand(n,n)-1)\n",
        "\n",
        "    return Q_qubo"
      ],
      "metadata": {
        "id": "EbFIDhKH-SGy"
      },
      "execution_count": 57,
      "outputs": []
    },
    {
      "cell_type": "markdown",
      "source": [
        "---\n",
        "# Tests"
      ],
      "metadata": {
        "id": "dBv6ArYVD8U_"
      }
    },
    {
      "cell_type": "markdown",
      "source": [
        "First test"
      ],
      "metadata": {
        "id": "U23w9pHDIq2N"
      }
    },
    {
      "cell_type": "code",
      "source": [
        "n = 5\n",
        "range_scale = 2\n",
        "n_layers = 2\n",
        "n_tries = 10\n",
        "shots = 1e4\n",
        "sim=AerSimulator(device='GPU', max_parallel_shots=0, max_parallel_threads=0)\n",
        "QUBO_matrix = random_QUBO(n, range_scale)\n",
        "\n",
        "time_QUBO_normal = QUBO_Solver(QUBO_matrix, n_layers, n_tries, shots, sim=sim)\n",
        "time_QUBO_normal"
      ],
      "metadata": {
        "colab": {
          "base_uri": "https://localhost:8080/"
        },
        "id": "xY197ZY9EIxf",
        "outputId": "8034348e-00d7-43d3-bb84-62df3c4ad789"
      },
      "execution_count": null,
      "outputs": [
        {
          "output_type": "stream",
          "name": "stdout",
          "text": [
            "Try  1  of  10\n",
            "Try  2  of  10\n",
            "Try  3  of  10\n",
            "Try  4  of  10\n",
            "Try  5  of  10\n",
            "Try  6  of  10\n",
            "Try  7  of  10\n",
            "Try  8  of  10\n",
            "Try  9  of  10\n",
            "Try  10  of  10\n"
          ]
        }
      ]
    },
    {
      "cell_type": "code",
      "source": [
        "time_QUBO_HoLCUs = HoLCUs_QUBO_Solver(QUBO_matrix, n_layers, n_tries, shots, sim=sim)\n",
        "time_QUBO_HoLCUs"
      ],
      "metadata": {
        "colab": {
          "base_uri": "https://localhost:8080/"
        },
        "id": "0pA0vxb3GREA",
        "outputId": "1dfe64da-44e7-4902-ef5c-9727f718c02b"
      },
      "execution_count": null,
      "outputs": [
        {
          "output_type": "stream",
          "name": "stdout",
          "text": [
            "Try  1  of  10\n",
            "Try  2  of  10\n",
            "Try  3  of  10\n",
            "Try  4  of  10\n",
            "Try  5  of  10\n",
            "Try  6  of  10\n",
            "Try  7  of  10\n",
            "Try  8  of  10\n",
            "Try  9  of  10\n",
            "Try  10  of  10\n"
          ]
        }
      ]
    },
    {
      "cell_type": "markdown",
      "source": [
        "10 times speedup."
      ],
      "metadata": {
        "id": "jV65edqeIw36"
      }
    },
    {
      "cell_type": "markdown",
      "source": [
        "## Big test"
      ],
      "metadata": {
        "id": "Dlrt5_PsIyaW"
      }
    },
    {
      "cell_type": "code",
      "source": [
        "# Global design\n",
        "range_scale = 2\n",
        "n_layers = 1\n",
        "n_tries = 3\n",
        "shots = 1e4\n",
        "n_range = 10\n",
        "n_instances = 5\n",
        "\n",
        "sim=AerSimulator(device='GPU', max_parallel_shots=0, max_parallel_threads=0)\n",
        "\n",
        "nombre_archivo1 = '/content/drive/MyDrive/QAOA_HLCU/normal_layers_1'\n",
        "nombre_archivo2 = '/content/drive/MyDrive/QAOA_HLCU/HoLCUs_layers_1'\n",
        "\n",
        "# For this range of number of variables\n",
        "for n in range(3, n_range):\n",
        "    for instance_ in range(n_instances):# For each instance\n",
        "\n",
        "        QUBO_matrix = random_QUBO(n, range_scale)\n",
        "\n",
        "        time_QUBO_normal = QUBO_Solver(QUBO_matrix, n_layers, n_tries, shots, sim=sim)\n",
        "\n",
        "        with open(nombre_archivo1, 'a', encoding='utf-8') as archivo:\n",
        "            archivo.write(str(time_QUBO_normal)+'\\n')\n",
        "\n",
        "        time_QUBO_HoLCUs = HoLCUs_QUBO_Solver(QUBO_matrix, n_layers, n_tries, shots, sim=sim)\n",
        "\n",
        "        with open(nombre_archivo2, 'a', encoding='utf-8') as archivo:\n",
        "            archivo.write(str(time_QUBO_HoLCUs)+'\\n')\n"
      ],
      "metadata": {
        "colab": {
          "base_uri": "https://localhost:8080/"
        },
        "id": "EjRwUR3mIwGE",
        "outputId": "960f8ffc-3f85-4669-9aca-6399e139f469"
      },
      "execution_count": null,
      "outputs": [
        {
          "output_type": "stream",
          "name": "stdout",
          "text": [
            "Try  1  of  3\n",
            "Try  2  of  3\n",
            "Try  3  of  3\n",
            "Try  1  of  3\n",
            "Try  2  of  3\n",
            "Try  3  of  3\n",
            "Try  1  of  3\n",
            "Try  2  of  3\n",
            "Try  3  of  3\n",
            "Try  1  of  3\n",
            "Try  2  of  3\n",
            "Try  3  of  3\n",
            "Try  1  of  3\n",
            "Try  2  of  3\n",
            "Try  3  of  3\n",
            "Try  1  of  3\n",
            "Try  2  of  3\n",
            "Try  3  of  3\n",
            "Try  1  of  3\n",
            "Try  2  of  3\n",
            "Try  3  of  3\n",
            "Try  1  of  3\n",
            "Try  2  of  3\n",
            "Try  3  of  3\n",
            "Try  1  of  3\n",
            "Try  2  of  3\n",
            "Try  3  of  3\n",
            "Try  1  of  3\n",
            "Try  2  of  3\n",
            "Try  3  of  3\n",
            "Try  1  of  3\n",
            "Try  2  of  3\n",
            "Try  3  of  3\n",
            "Try  1  of  3\n",
            "Try  2  of  3\n",
            "Try  3  of  3\n",
            "Try  1  of  3\n",
            "Try  2  of  3\n",
            "Try  3  of  3\n",
            "Try  1  of  3\n",
            "Try  2  of  3\n",
            "Try  3  of  3\n",
            "Try  1  of  3\n",
            "Try  2  of  3\n",
            "Try  3  of  3\n",
            "Try  1  of  3\n",
            "Try  2  of  3\n",
            "Try  3  of  3\n",
            "Try  1  of  3\n",
            "Try  2  of  3\n",
            "Try  3  of  3\n",
            "Try  1  of  3\n",
            "Try  2  of  3\n",
            "Try  3  of  3\n",
            "Try  1  of  3\n",
            "Try  2  of  3\n",
            "Try  3  of  3\n",
            "Try  1  of  3\n",
            "Try  2  of  3\n",
            "Try  3  of  3\n",
            "Try  1  of  3\n",
            "Try  2  of  3\n",
            "Try  3  of  3\n",
            "Try  1  of  3\n",
            "Try  2  of  3\n",
            "Try  3  of  3\n",
            "Try  1  of  3\n",
            "Try  2  of  3\n",
            "Try  3  of  3\n",
            "Try  1  of  3\n",
            "Try  2  of  3\n",
            "Try  3  of  3\n",
            "Try  1  of  3\n",
            "Try  2  of  3\n",
            "Try  3  of  3\n",
            "Try  1  of  3\n",
            "Try  2  of  3\n",
            "Try  3  of  3\n",
            "Try  1  of  3\n",
            "Try  2  of  3\n",
            "Try  3  of  3\n",
            "Try  1  of  3\n",
            "Try  2  of  3\n",
            "Try  3  of  3\n",
            "Try  1  of  3\n",
            "Try  2  of  3\n",
            "Try  3  of  3\n",
            "Try  1  of  3\n",
            "Try  2  of  3\n",
            "Try  3  of  3\n",
            "Try  1  of  3\n",
            "Try  2  of  3\n",
            "Try  3  of  3\n",
            "Try  1  of  3\n",
            "Try  2  of  3\n",
            "Try  3  of  3\n",
            "Try  1  of  3\n",
            "Try  2  of  3\n",
            "Try  3  of  3\n",
            "Try  1  of  3\n",
            "Try  2  of  3\n",
            "Try  3  of  3\n",
            "Try  1  of  3\n",
            "Try  2  of  3\n",
            "Try  3  of  3\n",
            "Try  1  of  3\n",
            "Try  2  of  3\n",
            "Try  3  of  3\n",
            "Try  1  of  3\n",
            "Try  2  of  3\n",
            "Try  3  of  3\n",
            "Try  1  of  3\n",
            "Try  2  of  3\n",
            "Try  3  of  3\n",
            "Try  1  of  3\n",
            "Try  2  of  3\n",
            "Try  3  of  3\n",
            "Try  1  of  3\n",
            "Try  2  of  3\n",
            "Try  3  of  3\n",
            "Try  1  of  3\n",
            "Try  2  of  3\n",
            "Try  3  of  3\n",
            "Try  1  of  3\n",
            "Try  2  of  3\n",
            "Try  3  of  3\n",
            "Try  1  of  3\n",
            "Try  2  of  3\n",
            "Try  3  of  3\n",
            "Try  1  of  3\n",
            "Try  2  of  3\n",
            "Try  3  of  3\n",
            "Try  1  of  3\n",
            "Try  2  of  3\n",
            "Try  3  of  3\n",
            "Try  1  of  3\n",
            "Try  2  of  3\n",
            "Try  3  of  3\n",
            "Try  1  of  3\n",
            "Try  2  of  3\n",
            "Try  3  of  3\n",
            "Try  1  of  3\n",
            "Try  2  of  3\n",
            "Try  3  of  3\n",
            "Try  1  of  3\n",
            "Try  2  of  3\n",
            "Try  3  of  3\n",
            "Try  1  of  3\n",
            "Try  2  of  3\n",
            "Try  3  of  3\n",
            "Try  1  of  3\n",
            "Try  2  of  3\n",
            "Try  3  of  3\n",
            "Try  1  of  3\n",
            "Try  2  of  3\n",
            "Try  3  of  3\n",
            "Try  1  of  3\n",
            "Try  2  of  3\n",
            "Try  3  of  3\n",
            "Try  1  of  3\n",
            "Try  2  of  3\n",
            "Try  3  of  3\n",
            "Try  1  of  3\n",
            "Try  2  of  3\n",
            "Try  3  of  3\n",
            "Try  1  of  3\n",
            "Try  2  of  3\n",
            "Try  3  of  3\n",
            "Try  1  of  3\n",
            "Try  2  of  3\n",
            "Try  3  of  3\n",
            "Try  1  of  3\n",
            "Try  2  of  3\n",
            "Try  3  of  3\n",
            "Try  1  of  3\n",
            "Try  2  of  3\n",
            "Try  3  of  3\n",
            "Try  1  of  3\n",
            "Try  2  of  3\n",
            "Try  3  of  3\n",
            "Try  1  of  3\n",
            "Try  2  of  3\n",
            "Try  3  of  3\n",
            "Try  1  of  3\n",
            "Try  2  of  3\n",
            "Try  3  of  3\n",
            "Try  1  of  3\n",
            "Try  2  of  3\n",
            "Try  3  of  3\n",
            "Try  1  of  3\n",
            "Try  2  of  3\n",
            "Try  3  of  3\n",
            "Try  1  of  3\n",
            "Try  2  of  3\n",
            "Try  3  of  3\n",
            "Try  1  of  3\n",
            "Try  2  of  3\n",
            "Try  3  of  3\n",
            "Try  1  of  3\n",
            "Try  2  of  3\n",
            "Try  3  of  3\n",
            "Try  1  of  3\n",
            "Try  2  of  3\n",
            "Try  3  of  3\n",
            "Try  1  of  3\n",
            "Try  2  of  3\n",
            "Try  3  of  3\n",
            "Try  1  of  3\n",
            "Try  2  of  3\n",
            "Try  3  of  3\n"
          ]
        }
      ]
    },
    {
      "cell_type": "code",
      "source": [
        "# Global design\n",
        "range_scale = 2\n",
        "n_layers = 2\n",
        "n_tries = 3\n",
        "shots = 1e4\n",
        "n_range = 10\n",
        "n_instances = 5\n",
        "\n",
        "\n",
        "sim=AerSimulator(device='GPU', max_parallel_shots=0, max_parallel_threads=0)\n",
        "\n",
        "nombre_archivo1 = '/content/drive/MyDrive/QAOA_HLCU/normal_layers_2'\n",
        "nombre_archivo2 = '/content/drive/MyDrive/QAOA_HLCU/HoLCUs_layers_2'\n",
        "\n",
        "# For this range of number of variables\n",
        "for n in range(3, n_range):\n",
        "    print('='*20)\n",
        "    print('n = ', n, ' of ', n_range-1)\n",
        "    for instance_ in range(n_instances):# For each instance\n",
        "        print('instance = ', instance_, ' of ', n_instances-1)\n",
        "\n",
        "        QUBO_matrix = random_QUBO(n, range_scale)\n",
        "\n",
        "        time_QUBO_normal = QUBO_Solver(QUBO_matrix, n_layers, n_tries, shots, sim=sim)\n",
        "\n",
        "        with open(nombre_archivo1, 'a', encoding='utf-8') as archivo:\n",
        "            archivo.write(str(time_QUBO_normal)+'\\n')\n",
        "\n",
        "        time_QUBO_HoLCUs = HoLCUs_QUBO_Solver(QUBO_matrix, n_layers, n_tries, shots, sim=sim)\n",
        "\n",
        "        with open(nombre_archivo2, 'a', encoding='utf-8') as archivo:\n",
        "            archivo.write(str(time_QUBO_HoLCUs)+'\\n')"
      ],
      "metadata": {
        "colab": {
          "base_uri": "https://localhost:8080/"
        },
        "id": "NixFA_8PJkfo",
        "outputId": "84185fd1-2171-41a0-e1a5-444642f3cfa3"
      },
      "execution_count": null,
      "outputs": [
        {
          "output_type": "stream",
          "name": "stdout",
          "text": [
            "====================\n",
            "n =  3  of  9\n",
            "instance =  0  of  4\n",
            "Try  1  of  3\n",
            "Try  2  of  3\n",
            "Try  3  of  3\n",
            "Try  1  of  3\n",
            "Try  2  of  3\n",
            "Try  3  of  3\n",
            "instance =  1  of  4\n",
            "Try  1  of  3\n",
            "Try  2  of  3\n",
            "Try  3  of  3\n",
            "Try  1  of  3\n",
            "Try  2  of  3\n",
            "Try  3  of  3\n",
            "instance =  2  of  4\n",
            "Try  1  of  3\n",
            "Try  2  of  3\n",
            "Try  3  of  3\n",
            "Try  1  of  3\n",
            "Try  2  of  3\n",
            "Try  3  of  3\n",
            "instance =  3  of  4\n",
            "Try  1  of  3\n",
            "Try  2  of  3\n",
            "Try  3  of  3\n",
            "Try  1  of  3\n",
            "Try  2  of  3\n",
            "Try  3  of  3\n",
            "instance =  4  of  4\n",
            "Try  1  of  3\n",
            "Try  2  of  3\n",
            "Try  3  of  3\n",
            "Try  1  of  3\n",
            "Try  2  of  3\n",
            "Try  3  of  3\n",
            "====================\n",
            "n =  4  of  9\n",
            "instance =  0  of  4\n",
            "Try  1  of  3\n",
            "Try  2  of  3\n",
            "Try  3  of  3\n",
            "Try  1  of  3\n",
            "Try  2  of  3\n",
            "Try  3  of  3\n",
            "instance =  1  of  4\n",
            "Try  1  of  3\n",
            "Try  2  of  3\n",
            "Try  3  of  3\n",
            "Try  1  of  3\n",
            "Try  2  of  3\n",
            "Try  3  of  3\n",
            "instance =  2  of  4\n",
            "Try  1  of  3\n",
            "Try  2  of  3\n",
            "Try  3  of  3\n",
            "Try  1  of  3\n",
            "Try  2  of  3\n",
            "Try  3  of  3\n",
            "instance =  3  of  4\n",
            "Try  1  of  3\n",
            "Try  2  of  3\n",
            "Try  3  of  3\n",
            "Try  1  of  3\n",
            "Try  2  of  3\n",
            "Try  3  of  3\n",
            "instance =  4  of  4\n",
            "Try  1  of  3\n",
            "Try  2  of  3\n",
            "Try  3  of  3\n",
            "Try  1  of  3\n",
            "Try  2  of  3\n",
            "Try  3  of  3\n",
            "====================\n",
            "n =  5  of  9\n",
            "instance =  0  of  4\n",
            "Try  1  of  3\n",
            "Try  2  of  3\n",
            "Try  3  of  3\n",
            "Try  1  of  3\n",
            "Try  2  of  3\n",
            "Try  3  of  3\n",
            "instance =  1  of  4\n",
            "Try  1  of  3\n",
            "Try  2  of  3\n",
            "Try  3  of  3\n",
            "Try  1  of  3\n",
            "Try  2  of  3\n",
            "Try  3  of  3\n",
            "instance =  2  of  4\n",
            "Try  1  of  3\n",
            "Try  2  of  3\n",
            "Try  3  of  3\n",
            "Try  1  of  3\n",
            "Try  2  of  3\n",
            "Try  3  of  3\n",
            "instance =  3  of  4\n",
            "Try  1  of  3\n",
            "Try  2  of  3\n",
            "Try  3  of  3\n",
            "Try  1  of  3\n",
            "Try  2  of  3\n",
            "Try  3  of  3\n",
            "instance =  4  of  4\n",
            "Try  1  of  3\n",
            "Try  2  of  3\n",
            "Try  3  of  3\n",
            "Try  1  of  3\n",
            "Try  2  of  3\n",
            "Try  3  of  3\n",
            "====================\n",
            "n =  6  of  9\n",
            "instance =  0  of  4\n",
            "Try  1  of  3\n",
            "Try  2  of  3\n",
            "Try  3  of  3\n",
            "Try  1  of  3\n",
            "Try  2  of  3\n",
            "Try  3  of  3\n",
            "instance =  1  of  4\n",
            "Try  1  of  3\n",
            "Try  2  of  3\n",
            "Try  3  of  3\n",
            "Try  1  of  3\n",
            "Try  2  of  3\n",
            "Try  3  of  3\n",
            "instance =  2  of  4\n",
            "Try  1  of  3\n",
            "Try  2  of  3\n",
            "Try  3  of  3\n",
            "Try  1  of  3\n",
            "Try  2  of  3\n",
            "Try  3  of  3\n",
            "instance =  3  of  4\n",
            "Try  1  of  3\n",
            "Try  2  of  3\n",
            "Try  3  of  3\n",
            "Try  1  of  3\n",
            "Try  2  of  3\n",
            "Try  3  of  3\n",
            "instance =  4  of  4\n",
            "Try  1  of  3\n",
            "Try  2  of  3\n",
            "Try  3  of  3\n",
            "Try  1  of  3\n",
            "Try  2  of  3\n",
            "Try  3  of  3\n",
            "====================\n",
            "n =  7  of  9\n",
            "instance =  0  of  4\n",
            "Try  1  of  3\n",
            "Try  2  of  3\n",
            "Try  3  of  3\n",
            "Try  1  of  3\n",
            "Try  2  of  3\n",
            "Try  3  of  3\n",
            "instance =  1  of  4\n",
            "Try  1  of  3\n",
            "Try  2  of  3\n",
            "Try  3  of  3\n",
            "Try  1  of  3\n",
            "Try  2  of  3\n",
            "Try  3  of  3\n",
            "instance =  2  of  4\n",
            "Try  1  of  3\n",
            "Try  2  of  3\n",
            "Try  3  of  3\n",
            "Try  1  of  3\n",
            "Try  2  of  3\n",
            "Try  3  of  3\n",
            "instance =  3  of  4\n",
            "Try  1  of  3\n",
            "Try  2  of  3\n",
            "Try  3  of  3\n",
            "Try  1  of  3\n",
            "Try  2  of  3\n",
            "Try  3  of  3\n",
            "instance =  4  of  4\n",
            "Try  1  of  3\n",
            "Try  2  of  3\n",
            "Try  3  of  3\n",
            "Try  1  of  3\n",
            "Try  2  of  3\n",
            "Try  3  of  3\n",
            "====================\n",
            "n =  8  of  9\n",
            "instance =  0  of  4\n",
            "Try  1  of  3\n",
            "Try  2  of  3\n",
            "Try  3  of  3\n",
            "Try  1  of  3\n",
            "Try  2  of  3\n",
            "Try  3  of  3\n",
            "instance =  1  of  4\n",
            "Try  1  of  3\n",
            "Try  2  of  3\n",
            "Try  3  of  3\n",
            "Try  1  of  3\n",
            "Try  2  of  3\n",
            "Try  3  of  3\n",
            "instance =  2  of  4\n",
            "Try  1  of  3\n",
            "Try  2  of  3\n",
            "Try  3  of  3\n",
            "Try  1  of  3\n",
            "Try  2  of  3\n",
            "Try  3  of  3\n",
            "instance =  3  of  4\n",
            "Try  1  of  3\n",
            "Try  2  of  3\n",
            "Try  3  of  3\n",
            "Try  1  of  3\n",
            "Try  2  of  3\n",
            "Try  3  of  3\n",
            "instance =  4  of  4\n",
            "Try  1  of  3\n",
            "Try  2  of  3\n",
            "Try  3  of  3\n",
            "Try  1  of  3\n",
            "Try  2  of  3\n",
            "Try  3  of  3\n",
            "====================\n",
            "n =  9  of  9\n",
            "instance =  0  of  4\n",
            "Try  1  of  3\n",
            "Try  2  of  3\n",
            "Try  3  of  3\n",
            "Try  1  of  3\n",
            "Try  2  of  3\n",
            "Try  3  of  3\n",
            "instance =  1  of  4\n",
            "Try  1  of  3\n",
            "Try  2  of  3\n",
            "Try  3  of  3\n",
            "Try  1  of  3\n",
            "Try  2  of  3\n",
            "Try  3  of  3\n",
            "instance =  2  of  4\n",
            "Try  1  of  3\n",
            "Try  2  of  3\n",
            "Try  3  of  3\n",
            "Try  1  of  3\n",
            "Try  2  of  3\n",
            "Try  3  of  3\n",
            "instance =  3  of  4\n",
            "Try  1  of  3\n",
            "Try  2  of  3\n",
            "Try  3  of  3\n",
            "Try  1  of  3\n",
            "Try  2  of  3\n",
            "Try  3  of  3\n",
            "instance =  4  of  4\n",
            "Try  1  of  3\n",
            "Try  2  of  3\n",
            "Try  3  of  3\n",
            "Try  1  of  3\n",
            "Try  2  of  3\n",
            "Try  3  of  3\n"
          ]
        }
      ]
    },
    {
      "cell_type": "code",
      "source": [
        "# Global design\n",
        "range_scale = 2\n",
        "n_layers = 3\n",
        "n_tries = 3\n",
        "shots = 1e4\n",
        "n_range = 10\n",
        "n_instances = 5\n",
        "\n",
        "sim=AerSimulator(device='GPU', max_parallel_shots=0, max_parallel_threads=0)\n",
        "\n",
        "nombre_archivo1 = '/content/drive/MyDrive/QAOA_HLCU/normal_layers_3'\n",
        "nombre_archivo2 = '/content/drive/MyDrive/QAOA_HLCU/HoLCUs_layers_3'\n",
        "\n",
        "# For this range of number of variables\n",
        "for n in range(3, n_range):\n",
        "    print('='*20)\n",
        "    print('n = ', n, ' of ', n_range-1)\n",
        "    for instance_ in range(n_instances):# For each instance\n",
        "        print('instance = ', instance_, ' of ', n_instances-1)\n",
        "\n",
        "        QUBO_matrix = random_QUBO(n, range_scale)\n",
        "\n",
        "        time_QUBO_normal = QUBO_Solver(QUBO_matrix, n_layers, n_tries, shots, sim=sim)\n",
        "\n",
        "        with open(nombre_archivo1, 'a', encoding='utf-8') as archivo:\n",
        "            archivo.write(str(time_QUBO_normal)+'\\n')\n",
        "\n",
        "        time_QUBO_HoLCUs = HoLCUs_QUBO_Solver(QUBO_matrix, n_layers, n_tries, shots, sim=sim)\n",
        "\n",
        "        with open(nombre_archivo2, 'a', encoding='utf-8') as archivo:\n",
        "            archivo.write(str(time_QUBO_HoLCUs)+'\\n')"
      ],
      "metadata": {
        "colab": {
          "base_uri": "https://localhost:8080/"
        },
        "id": "nEB30a8eLGpC",
        "outputId": "593e07dd-1b1c-4be2-96c6-a56d794ec525"
      },
      "execution_count": null,
      "outputs": [
        {
          "output_type": "stream",
          "name": "stdout",
          "text": [
            "====================\n",
            "n =  3  of  9\n",
            "instance =  0  of  4\n",
            "Try  1  of  3\n",
            "Try  2  of  3\n",
            "Try  3  of  3\n",
            "Try  1  of  3\n",
            "Try  2  of  3\n",
            "Try  3  of  3\n",
            "instance =  1  of  4\n",
            "Try  1  of  3\n",
            "Try  2  of  3\n",
            "Try  3  of  3\n",
            "Try  1  of  3\n",
            "Try  2  of  3\n",
            "Try  3  of  3\n",
            "instance =  2  of  4\n",
            "Try  1  of  3\n",
            "Try  2  of  3\n",
            "Try  3  of  3\n",
            "Try  1  of  3\n",
            "Try  2  of  3\n",
            "Try  3  of  3\n",
            "instance =  3  of  4\n",
            "Try  1  of  3\n",
            "Try  2  of  3\n",
            "Try  3  of  3\n",
            "Try  1  of  3\n",
            "Try  2  of  3\n",
            "Try  3  of  3\n",
            "instance =  4  of  4\n",
            "Try  1  of  3\n",
            "Try  2  of  3\n",
            "Try  3  of  3\n",
            "Try  1  of  3\n",
            "Try  2  of  3\n",
            "Try  3  of  3\n",
            "====================\n",
            "n =  4  of  9\n",
            "instance =  0  of  4\n",
            "Try  1  of  3\n",
            "Try  2  of  3\n",
            "Try  3  of  3\n",
            "Try  1  of  3\n",
            "Try  2  of  3\n",
            "Try  3  of  3\n",
            "instance =  1  of  4\n",
            "Try  1  of  3\n",
            "Try  2  of  3\n",
            "Try  3  of  3\n",
            "Try  1  of  3\n",
            "Try  2  of  3\n",
            "Try  3  of  3\n",
            "instance =  2  of  4\n",
            "Try  1  of  3\n",
            "Try  2  of  3\n",
            "Try  3  of  3\n",
            "Try  1  of  3\n",
            "Try  2  of  3\n",
            "Try  3  of  3\n",
            "instance =  3  of  4\n",
            "Try  1  of  3\n",
            "Try  2  of  3\n",
            "Try  3  of  3\n",
            "Try  1  of  3\n",
            "Try  2  of  3\n",
            "Try  3  of  3\n",
            "instance =  4  of  4\n",
            "Try  1  of  3\n",
            "Try  2  of  3\n",
            "Try  3  of  3\n",
            "Try  1  of  3\n",
            "Try  2  of  3\n",
            "Try  3  of  3\n",
            "====================\n",
            "n =  5  of  9\n",
            "instance =  0  of  4\n",
            "Try  1  of  3\n",
            "Try  2  of  3\n",
            "Try  3  of  3\n",
            "Try  1  of  3\n",
            "Try  2  of  3\n",
            "Try  3  of  3\n",
            "instance =  1  of  4\n",
            "Try  1  of  3\n",
            "Try  2  of  3\n",
            "Try  3  of  3\n",
            "Try  1  of  3\n",
            "Try  2  of  3\n",
            "Try  3  of  3\n",
            "instance =  2  of  4\n",
            "Try  1  of  3\n",
            "Try  2  of  3\n",
            "Try  3  of  3\n",
            "Try  1  of  3\n",
            "Try  2  of  3\n",
            "Try  3  of  3\n",
            "instance =  3  of  4\n",
            "Try  1  of  3\n",
            "Try  2  of  3\n",
            "Try  3  of  3\n",
            "Try  1  of  3\n",
            "Try  2  of  3\n",
            "Try  3  of  3\n",
            "instance =  4  of  4\n",
            "Try  1  of  3\n",
            "Try  2  of  3\n",
            "Try  3  of  3\n",
            "Try  1  of  3\n",
            "Try  2  of  3\n",
            "Try  3  of  3\n",
            "====================\n",
            "n =  6  of  9\n",
            "instance =  0  of  4\n",
            "Try  1  of  3\n",
            "Try  2  of  3\n",
            "Try  3  of  3\n",
            "Try  1  of  3\n",
            "Try  2  of  3\n",
            "Try  3  of  3\n",
            "instance =  1  of  4\n",
            "Try  1  of  3\n",
            "Try  2  of  3\n",
            "Try  3  of  3\n",
            "Try  1  of  3\n",
            "Try  2  of  3\n",
            "Try  3  of  3\n",
            "instance =  2  of  4\n",
            "Try  1  of  3\n",
            "Try  2  of  3\n",
            "Try  3  of  3\n",
            "Try  1  of  3\n",
            "Try  2  of  3\n",
            "Try  3  of  3\n",
            "instance =  3  of  4\n",
            "Try  1  of  3\n",
            "Try  2  of  3\n",
            "Try  3  of  3\n",
            "Try  1  of  3\n",
            "Try  2  of  3\n",
            "Try  3  of  3\n",
            "instance =  4  of  4\n",
            "Try  1  of  3\n",
            "Try  2  of  3\n",
            "Try  3  of  3\n",
            "Try  1  of  3\n",
            "Try  2  of  3\n",
            "Try  3  of  3\n",
            "====================\n",
            "n =  7  of  9\n",
            "instance =  0  of  4\n",
            "Try  1  of  3\n",
            "Try  2  of  3\n",
            "Try  3  of  3\n",
            "Try  1  of  3\n",
            "Try  2  of  3\n",
            "Try  3  of  3\n",
            "instance =  1  of  4\n",
            "Try  1  of  3\n",
            "Try  2  of  3\n",
            "Try  3  of  3\n",
            "Try  1  of  3\n",
            "Try  2  of  3\n",
            "Try  3  of  3\n",
            "instance =  2  of  4\n",
            "Try  1  of  3\n",
            "Try  2  of  3\n",
            "Try  3  of  3\n",
            "Try  1  of  3\n",
            "Try  2  of  3\n",
            "Try  3  of  3\n",
            "instance =  3  of  4\n",
            "Try  1  of  3\n",
            "Try  2  of  3\n",
            "Try  3  of  3\n",
            "Try  1  of  3\n",
            "Try  2  of  3\n",
            "Try  3  of  3\n",
            "instance =  4  of  4\n",
            "Try  1  of  3\n",
            "Try  2  of  3\n",
            "Try  3  of  3\n",
            "Try  1  of  3\n",
            "Try  2  of  3\n",
            "Try  3  of  3\n",
            "====================\n",
            "n =  8  of  9\n",
            "instance =  0  of  4\n",
            "Try  1  of  3\n",
            "Try  2  of  3\n",
            "Try  3  of  3\n",
            "Try  1  of  3\n",
            "Try  2  of  3\n",
            "Try  3  of  3\n",
            "instance =  1  of  4\n",
            "Try  1  of  3\n",
            "Try  2  of  3\n",
            "Try  3  of  3\n",
            "Try  1  of  3\n",
            "Try  2  of  3\n",
            "Try  3  of  3\n",
            "instance =  2  of  4\n",
            "Try  1  of  3\n",
            "Try  2  of  3\n",
            "Try  3  of  3\n",
            "Try  1  of  3\n",
            "Try  2  of  3\n",
            "Try  3  of  3\n",
            "instance =  3  of  4\n",
            "Try  1  of  3\n",
            "Try  2  of  3\n",
            "Try  3  of  3\n",
            "Try  1  of  3\n",
            "Try  2  of  3\n",
            "Try  3  of  3\n",
            "instance =  4  of  4\n",
            "Try  1  of  3\n",
            "Try  2  of  3\n",
            "Try  3  of  3\n",
            "Try  1  of  3\n",
            "Try  2  of  3\n",
            "Try  3  of  3\n",
            "====================\n",
            "n =  9  of  9\n",
            "instance =  0  of  4\n",
            "Try  1  of  3\n",
            "Try  2  of  3\n",
            "Try  3  of  3\n",
            "Try  1  of  3\n",
            "Try  2  of  3\n",
            "Try  3  of  3\n",
            "instance =  1  of  4\n",
            "Try  1  of  3\n",
            "Try  2  of  3\n",
            "Try  3  of  3\n",
            "Try  1  of  3\n",
            "Try  2  of  3\n",
            "Try  3  of  3\n",
            "instance =  2  of  4\n",
            "Try  1  of  3\n",
            "Try  2  of  3\n",
            "Try  3  of  3\n",
            "Try  1  of  3\n",
            "Try  2  of  3\n",
            "Try  3  of  3\n",
            "instance =  3  of  4\n",
            "Try  1  of  3\n",
            "Try  2  of  3\n",
            "Try  3  of  3\n",
            "Try  1  of  3\n",
            "Try  2  of  3\n",
            "Try  3  of  3\n",
            "instance =  4  of  4\n",
            "Try  1  of  3\n",
            "Try  2  of  3\n",
            "Try  3  of  3\n",
            "Try  1  of  3\n",
            "Try  2  of  3\n",
            "Try  3  of  3\n"
          ]
        }
      ]
    },
    {
      "cell_type": "markdown",
      "source": [
        "## Only HoLCUs"
      ],
      "metadata": {
        "id": "Nf5y3rZQLMSy"
      }
    },
    {
      "cell_type": "code",
      "source": [
        "# Global design\n",
        "range_scale = 2\n",
        "n_layers = 3\n",
        "n_tries = 3\n",
        "shots = 1e4\n",
        "n_range = 20\n",
        "n_instances = 10\n",
        "\n",
        "sim=AerSimulator(device='CPU', max_parallel_shots=0, max_parallel_threads=0)\n",
        "\n",
        "nombre_archivo2 = '/content/drive/MyDrive/QAOA_HLCU/HoLCUs_final'\n",
        "\n",
        "# For this range of number of variables\n",
        "for n in range(3, n_range):\n",
        "    print('='*20)\n",
        "    print('n = ', n, ' of ', n_range-1)\n",
        "    for instance_ in range(n_instances):# For each instance\n",
        "        print('instance = ', instance_, ' of ', n_instances-1)\n",
        "\n",
        "        QUBO_matrix = random_QUBO(n, range_scale)\n",
        "\n",
        "        time_QUBO_HoLCUs = HoLCUs_QUBO_Solver(QUBO_matrix, n_layers, n_tries, shots, sim=sim)\n",
        "\n",
        "        with open(nombre_archivo2, 'a', encoding='utf-8') as archivo:\n",
        "            archivo.write(str(time_QUBO_HoLCUs)+'\\n')"
      ],
      "metadata": {
        "colab": {
          "base_uri": "https://localhost:8080/",
          "height": 1000
        },
        "id": "2_apeP3WLKxl",
        "outputId": "261876d4-3eb6-4030-de4a-48c7064b6d82"
      },
      "execution_count": null,
      "outputs": [
        {
          "output_type": "stream",
          "name": "stdout",
          "text": [
            "====================\n",
            "n =  3  of  19\n",
            "instance =  0  of  9\n",
            "Try  1  of  3\n",
            "Try  2  of  3\n",
            "Try  3  of  3\n",
            "instance =  1  of  9\n",
            "Try  1  of  3\n",
            "Try  2  of  3\n",
            "Try  3  of  3\n",
            "instance =  2  of  9\n",
            "Try  1  of  3\n",
            "Try  2  of  3\n",
            "Try  3  of  3\n",
            "instance =  3  of  9\n",
            "Try  1  of  3\n",
            "Try  2  of  3\n",
            "Try  3  of  3\n",
            "instance =  4  of  9\n",
            "Try  1  of  3\n",
            "Try  2  of  3\n",
            "Try  3  of  3\n",
            "instance =  5  of  9\n",
            "Try  1  of  3\n",
            "Try  2  of  3\n",
            "Try  3  of  3\n",
            "instance =  6  of  9\n",
            "Try  1  of  3\n",
            "Try  2  of  3\n",
            "Try  3  of  3\n",
            "instance =  7  of  9\n",
            "Try  1  of  3\n",
            "Try  2  of  3\n",
            "Try  3  of  3\n",
            "instance =  8  of  9\n",
            "Try  1  of  3\n",
            "Try  2  of  3\n",
            "Try  3  of  3\n",
            "instance =  9  of  9\n",
            "Try  1  of  3\n",
            "Try  2  of  3\n",
            "Try  3  of  3\n",
            "====================\n",
            "n =  4  of  19\n",
            "instance =  0  of  9\n",
            "Try  1  of  3\n",
            "Try  2  of  3\n",
            "Try  3  of  3\n",
            "instance =  1  of  9\n",
            "Try  1  of  3\n",
            "Try  2  of  3\n",
            "Try  3  of  3\n",
            "instance =  2  of  9\n",
            "Try  1  of  3\n",
            "Try  2  of  3\n",
            "Try  3  of  3\n",
            "instance =  3  of  9\n",
            "Try  1  of  3\n",
            "Try  2  of  3\n",
            "Try  3  of  3\n",
            "instance =  4  of  9\n",
            "Try  1  of  3\n",
            "Try  2  of  3\n",
            "Try  3  of  3\n",
            "instance =  5  of  9\n",
            "Try  1  of  3\n",
            "Try  2  of  3\n",
            "Try  3  of  3\n",
            "instance =  6  of  9\n",
            "Try  1  of  3\n",
            "Try  2  of  3\n",
            "Try  3  of  3\n",
            "instance =  7  of  9\n",
            "Try  1  of  3\n",
            "Try  2  of  3\n",
            "Try  3  of  3\n",
            "instance =  8  of  9\n",
            "Try  1  of  3\n",
            "Try  2  of  3\n",
            "Try  3  of  3\n",
            "instance =  9  of  9\n",
            "Try  1  of  3\n",
            "Try  2  of  3\n",
            "Try  3  of  3\n",
            "====================\n",
            "n =  5  of  19\n",
            "instance =  0  of  9\n",
            "Try  1  of  3\n",
            "Try  2  of  3\n",
            "Try  3  of  3\n",
            "instance =  1  of  9\n",
            "Try  1  of  3\n",
            "Try  2  of  3\n",
            "Try  3  of  3\n",
            "instance =  2  of  9\n",
            "Try  1  of  3\n",
            "Try  2  of  3\n",
            "Try  3  of  3\n",
            "instance =  3  of  9\n",
            "Try  1  of  3\n",
            "Try  2  of  3\n",
            "Try  3  of  3\n",
            "instance =  4  of  9\n",
            "Try  1  of  3\n",
            "Try  2  of  3\n",
            "Try  3  of  3\n",
            "instance =  5  of  9\n",
            "Try  1  of  3\n",
            "Try  2  of  3\n",
            "Try  3  of  3\n",
            "instance =  6  of  9\n",
            "Try  1  of  3\n",
            "Try  2  of  3\n",
            "Try  3  of  3\n",
            "instance =  7  of  9\n",
            "Try  1  of  3\n",
            "Try  2  of  3\n",
            "Try  3  of  3\n",
            "instance =  8  of  9\n",
            "Try  1  of  3\n",
            "Try  2  of  3\n",
            "Try  3  of  3\n",
            "instance =  9  of  9\n",
            "Try  1  of  3\n",
            "Try  2  of  3\n",
            "Try  3  of  3\n",
            "====================\n",
            "n =  6  of  19\n",
            "instance =  0  of  9\n",
            "Try  1  of  3\n",
            "Try  2  of  3\n",
            "Try  3  of  3\n",
            "instance =  1  of  9\n",
            "Try  1  of  3\n",
            "Try  2  of  3\n",
            "Try  3  of  3\n",
            "instance =  2  of  9\n",
            "Try  1  of  3\n",
            "Try  2  of  3\n",
            "Try  3  of  3\n",
            "instance =  3  of  9\n",
            "Try  1  of  3\n",
            "Try  2  of  3\n",
            "Try  3  of  3\n",
            "instance =  4  of  9\n",
            "Try  1  of  3\n",
            "Try  2  of  3\n",
            "Try  3  of  3\n",
            "instance =  5  of  9\n",
            "Try  1  of  3\n",
            "Try  2  of  3\n",
            "Try  3  of  3\n",
            "instance =  6  of  9\n",
            "Try  1  of  3\n",
            "Try  2  of  3\n",
            "Try  3  of  3\n",
            "instance =  7  of  9\n",
            "Try  1  of  3\n",
            "Try  2  of  3\n",
            "Try  3  of  3\n",
            "instance =  8  of  9\n",
            "Try  1  of  3\n",
            "Try  2  of  3\n",
            "Try  3  of  3\n",
            "instance =  9  of  9\n",
            "Try  1  of  3\n",
            "Try  2  of  3\n",
            "Try  3  of  3\n",
            "====================\n",
            "n =  7  of  19\n",
            "instance =  0  of  9\n",
            "Try  1  of  3\n",
            "Try  2  of  3\n",
            "Try  3  of  3\n",
            "instance =  1  of  9\n",
            "Try  1  of  3\n",
            "Try  2  of  3\n",
            "Try  3  of  3\n",
            "instance =  2  of  9\n",
            "Try  1  of  3\n",
            "Try  2  of  3\n",
            "Try  3  of  3\n",
            "instance =  3  of  9\n",
            "Try  1  of  3\n",
            "Try  2  of  3\n",
            "Try  3  of  3\n",
            "instance =  4  of  9\n",
            "Try  1  of  3\n",
            "Try  2  of  3\n",
            "Try  3  of  3\n",
            "instance =  5  of  9\n",
            "Try  1  of  3\n",
            "Try  2  of  3\n",
            "Try  3  of  3\n",
            "instance =  6  of  9\n",
            "Try  1  of  3\n",
            "Try  2  of  3\n",
            "Try  3  of  3\n",
            "instance =  7  of  9\n",
            "Try  1  of  3\n",
            "Try  2  of  3\n",
            "Try  3  of  3\n",
            "instance =  8  of  9\n",
            "Try  1  of  3\n",
            "Try  2  of  3\n",
            "Try  3  of  3\n",
            "instance =  9  of  9\n",
            "Try  1  of  3\n",
            "Try  2  of  3\n",
            "Try  3  of  3\n",
            "====================\n",
            "n =  8  of  19\n",
            "instance =  0  of  9\n",
            "Try  1  of  3\n",
            "Try  2  of  3\n",
            "Try  3  of  3\n",
            "instance =  1  of  9\n",
            "Try  1  of  3\n",
            "Try  2  of  3\n",
            "Try  3  of  3\n",
            "instance =  2  of  9\n",
            "Try  1  of  3\n",
            "Try  2  of  3\n",
            "Try  3  of  3\n",
            "instance =  3  of  9\n",
            "Try  1  of  3\n",
            "Try  2  of  3\n",
            "Try  3  of  3\n",
            "instance =  4  of  9\n",
            "Try  1  of  3\n",
            "Try  2  of  3\n",
            "Try  3  of  3\n",
            "instance =  5  of  9\n",
            "Try  1  of  3\n",
            "Try  2  of  3\n",
            "Try  3  of  3\n",
            "instance =  6  of  9\n",
            "Try  1  of  3\n",
            "Try  2  of  3\n",
            "Try  3  of  3\n",
            "instance =  7  of  9\n",
            "Try  1  of  3\n",
            "Try  2  of  3\n",
            "Try  3  of  3\n",
            "instance =  8  of  9\n",
            "Try  1  of  3\n",
            "Try  2  of  3\n",
            "Try  3  of  3\n",
            "instance =  9  of  9\n",
            "Try  1  of  3\n",
            "Try  2  of  3\n",
            "Try  3  of  3\n",
            "====================\n",
            "n =  9  of  19\n",
            "instance =  0  of  9\n",
            "Try  1  of  3\n",
            "Try  2  of  3\n",
            "Try  3  of  3\n",
            "instance =  1  of  9\n",
            "Try  1  of  3\n",
            "Try  2  of  3\n",
            "Try  3  of  3\n",
            "instance =  2  of  9\n",
            "Try  1  of  3\n",
            "Try  2  of  3\n",
            "Try  3  of  3\n",
            "instance =  3  of  9\n",
            "Try  1  of  3\n",
            "Try  2  of  3\n",
            "Try  3  of  3\n",
            "instance =  4  of  9\n",
            "Try  1  of  3\n",
            "Try  2  of  3\n",
            "Try  3  of  3\n",
            "instance =  5  of  9\n",
            "Try  1  of  3\n",
            "Try  2  of  3\n",
            "Try  3  of  3\n",
            "instance =  6  of  9\n",
            "Try  1  of  3\n",
            "Try  2  of  3\n",
            "Try  3  of  3\n",
            "instance =  7  of  9\n",
            "Try  1  of  3\n",
            "Try  2  of  3\n",
            "Try  3  of  3\n",
            "instance =  8  of  9\n",
            "Try  1  of  3\n",
            "Try  2  of  3\n",
            "Try  3  of  3\n",
            "instance =  9  of  9\n",
            "Try  1  of  3\n",
            "Try  2  of  3\n",
            "Try  3  of  3\n",
            "====================\n",
            "n =  10  of  19\n",
            "instance =  0  of  9\n",
            "Try  1  of  3\n",
            "Try  2  of  3\n",
            "Try  3  of  3\n",
            "instance =  1  of  9\n",
            "Try  1  of  3\n",
            "Try  2  of  3\n",
            "Try  3  of  3\n",
            "instance =  2  of  9\n",
            "Try  1  of  3\n",
            "Try  2  of  3\n",
            "Try  3  of  3\n",
            "instance =  3  of  9\n",
            "Try  1  of  3\n",
            "Try  2  of  3\n",
            "Try  3  of  3\n",
            "instance =  4  of  9\n",
            "Try  1  of  3\n",
            "Try  2  of  3\n",
            "Try  3  of  3\n",
            "instance =  5  of  9\n",
            "Try  1  of  3\n",
            "Try  2  of  3\n",
            "Try  3  of  3\n",
            "instance =  6  of  9\n",
            "Try  1  of  3\n",
            "Try  2  of  3\n",
            "Try  3  of  3\n",
            "instance =  7  of  9\n",
            "Try  1  of  3\n",
            "Try  2  of  3\n",
            "Try  3  of  3\n",
            "instance =  8  of  9\n",
            "Try  1  of  3\n",
            "Try  2  of  3\n",
            "Try  3  of  3\n",
            "instance =  9  of  9\n",
            "Try  1  of  3\n",
            "Try  2  of  3\n",
            "Try  3  of  3\n",
            "====================\n",
            "n =  11  of  19\n",
            "instance =  0  of  9\n",
            "Try  1  of  3\n",
            "Try  2  of  3\n",
            "Try  3  of  3\n",
            "instance =  1  of  9\n",
            "Try  1  of  3\n",
            "Try  2  of  3\n",
            "Try  3  of  3\n",
            "instance =  2  of  9\n",
            "Try  1  of  3\n",
            "Try  2  of  3\n",
            "Try  3  of  3\n",
            "instance =  3  of  9\n",
            "Try  1  of  3\n",
            "Try  2  of  3\n",
            "Try  3  of  3\n",
            "instance =  4  of  9\n",
            "Try  1  of  3\n",
            "Try  2  of  3\n",
            "Try  3  of  3\n",
            "instance =  5  of  9\n",
            "Try  1  of  3\n",
            "Try  2  of  3\n",
            "Try  3  of  3\n",
            "instance =  6  of  9\n",
            "Try  1  of  3\n",
            "Try  2  of  3\n",
            "Try  3  of  3\n",
            "instance =  7  of  9\n",
            "Try  1  of  3\n",
            "Try  2  of  3\n",
            "Try  3  of  3\n",
            "instance =  8  of  9\n",
            "Try  1  of  3\n",
            "Try  2  of  3\n",
            "Try  3  of  3\n",
            "instance =  9  of  9\n",
            "Try  1  of  3\n",
            "Try  2  of  3\n",
            "Try  3  of  3\n",
            "====================\n",
            "n =  12  of  19\n",
            "instance =  0  of  9\n",
            "Try  1  of  3\n"
          ]
        },
        {
          "output_type": "error",
          "ename": "KeyboardInterrupt",
          "evalue": "",
          "traceback": [
            "\u001b[0;31m---------------------------------------------------------------------------\u001b[0m",
            "\u001b[0;31mKeyboardInterrupt\u001b[0m                         Traceback (most recent call last)",
            "\u001b[0;32m<ipython-input-37-5ef4287d2d35>\u001b[0m in \u001b[0;36m<cell line: 0>\u001b[0;34m()\u001b[0m\n\u001b[1;32m     20\u001b[0m         \u001b[0mQUBO_matrix\u001b[0m \u001b[0;34m=\u001b[0m \u001b[0mrandom_QUBO\u001b[0m\u001b[0;34m(\u001b[0m\u001b[0mn\u001b[0m\u001b[0;34m,\u001b[0m \u001b[0mrange_scale\u001b[0m\u001b[0;34m)\u001b[0m\u001b[0;34m\u001b[0m\u001b[0;34m\u001b[0m\u001b[0m\n\u001b[1;32m     21\u001b[0m \u001b[0;34m\u001b[0m\u001b[0m\n\u001b[0;32m---> 22\u001b[0;31m         \u001b[0mtime_QUBO_HoLCUs\u001b[0m \u001b[0;34m=\u001b[0m \u001b[0mHoLCUs_QUBO_Solver\u001b[0m\u001b[0;34m(\u001b[0m\u001b[0mQUBO_matrix\u001b[0m\u001b[0;34m,\u001b[0m \u001b[0mn_layers\u001b[0m\u001b[0;34m,\u001b[0m \u001b[0mn_tries\u001b[0m\u001b[0;34m,\u001b[0m \u001b[0mshots\u001b[0m\u001b[0;34m,\u001b[0m \u001b[0msim\u001b[0m\u001b[0;34m=\u001b[0m\u001b[0msim\u001b[0m\u001b[0;34m)\u001b[0m\u001b[0;34m\u001b[0m\u001b[0;34m\u001b[0m\u001b[0m\n\u001b[0m\u001b[1;32m     23\u001b[0m \u001b[0;34m\u001b[0m\u001b[0m\n\u001b[1;32m     24\u001b[0m         \u001b[0;32mwith\u001b[0m \u001b[0mopen\u001b[0m\u001b[0;34m(\u001b[0m\u001b[0mnombre_archivo2\u001b[0m\u001b[0;34m,\u001b[0m \u001b[0;34m'a'\u001b[0m\u001b[0;34m,\u001b[0m \u001b[0mencoding\u001b[0m\u001b[0;34m=\u001b[0m\u001b[0;34m'utf-8'\u001b[0m\u001b[0;34m)\u001b[0m \u001b[0;32mas\u001b[0m \u001b[0marchivo\u001b[0m\u001b[0;34m:\u001b[0m\u001b[0;34m\u001b[0m\u001b[0;34m\u001b[0m\u001b[0m\n",
            "\u001b[0;32m<ipython-input-19-4624eaa955c1>\u001b[0m in \u001b[0;36mHoLCUs_QUBO_Solver\u001b[0;34m(Q_QUBO, n_layers, n_tries, shots, verbose, sim)\u001b[0m\n\u001b[1;32m     32\u001b[0m         \u001b[0mangles\u001b[0m \u001b[0;34m=\u001b[0m \u001b[0mnp\u001b[0m\u001b[0;34m.\u001b[0m\u001b[0mrandom\u001b[0m\u001b[0;34m.\u001b[0m\u001b[0mrand\u001b[0m\u001b[0;34m(\u001b[0m\u001b[0;36m2\u001b[0m\u001b[0;34m*\u001b[0m\u001b[0mn_layers\u001b[0m\u001b[0;34m)\u001b[0m\u001b[0;34m*\u001b[0m\u001b[0mnp\u001b[0m\u001b[0;34m.\u001b[0m\u001b[0mpi\u001b[0m\u001b[0;34m\u001b[0m\u001b[0;34m\u001b[0m\u001b[0m\n\u001b[1;32m     33\u001b[0m         \u001b[0;31m#Optimizador\u001b[0m\u001b[0;34m\u001b[0m\u001b[0;34m\u001b[0m\u001b[0m\n\u001b[0;32m---> 34\u001b[0;31m         \u001b[0mres\u001b[0m    \u001b[0;34m=\u001b[0m \u001b[0mminimize\u001b[0m\u001b[0;34m(\u001b[0m\u001b[0mcircuit\u001b[0m\u001b[0;34m,\u001b[0m \u001b[0mangles\u001b[0m\u001b[0;34m,\u001b[0m \u001b[0mmethod\u001b[0m\u001b[0;34m=\u001b[0m\u001b[0;34m'COBYLA'\u001b[0m\u001b[0;34m,\u001b[0m \u001b[0mtol\u001b[0m \u001b[0;34m=\u001b[0m \u001b[0;36m1e-8\u001b[0m\u001b[0;34m)\u001b[0m\u001b[0;34m\u001b[0m\u001b[0;34m\u001b[0m\u001b[0m\n\u001b[0m\u001b[1;32m     35\u001b[0m \u001b[0;34m\u001b[0m\u001b[0m\n\u001b[1;32m     36\u001b[0m     \u001b[0;31m# Final point\u001b[0m\u001b[0;34m\u001b[0m\u001b[0;34m\u001b[0m\u001b[0m\n",
            "\u001b[0;32m/usr/local/lib/python3.11/dist-packages/scipy/optimize/_minimize.py\u001b[0m in \u001b[0;36mminimize\u001b[0;34m(fun, x0, args, method, jac, hess, hessp, bounds, constraints, tol, callback, options)\u001b[0m\n\u001b[1;32m    717\u001b[0m                             **options)\n\u001b[1;32m    718\u001b[0m     \u001b[0;32melif\u001b[0m \u001b[0mmeth\u001b[0m \u001b[0;34m==\u001b[0m \u001b[0;34m'cobyla'\u001b[0m\u001b[0;34m:\u001b[0m\u001b[0;34m\u001b[0m\u001b[0;34m\u001b[0m\u001b[0m\n\u001b[0;32m--> 719\u001b[0;31m         res = _minimize_cobyla(fun, x0, args, constraints, callback=callback,\n\u001b[0m\u001b[1;32m    720\u001b[0m                                bounds=bounds, **options)\n\u001b[1;32m    721\u001b[0m     \u001b[0;32melif\u001b[0m \u001b[0mmeth\u001b[0m \u001b[0;34m==\u001b[0m \u001b[0;34m'slsqp'\u001b[0m\u001b[0;34m:\u001b[0m\u001b[0;34m\u001b[0m\u001b[0;34m\u001b[0m\u001b[0m\n",
            "\u001b[0;32m/usr/local/lib/python3.11/dist-packages/scipy/optimize/_cobyla_py.py\u001b[0m in \u001b[0;36mwrapper\u001b[0;34m(*args, **kwargs)\u001b[0m\n\u001b[1;32m     33\u001b[0m     \u001b[0;32mdef\u001b[0m \u001b[0mwrapper\u001b[0m\u001b[0;34m(\u001b[0m\u001b[0;34m*\u001b[0m\u001b[0margs\u001b[0m\u001b[0;34m,\u001b[0m \u001b[0;34m**\u001b[0m\u001b[0mkwargs\u001b[0m\u001b[0;34m)\u001b[0m\u001b[0;34m:\u001b[0m\u001b[0;34m\u001b[0m\u001b[0;34m\u001b[0m\u001b[0m\n\u001b[1;32m     34\u001b[0m         \u001b[0;32mwith\u001b[0m \u001b[0m_module_lock\u001b[0m\u001b[0;34m:\u001b[0m\u001b[0;34m\u001b[0m\u001b[0;34m\u001b[0m\u001b[0m\n\u001b[0;32m---> 35\u001b[0;31m             \u001b[0;32mreturn\u001b[0m \u001b[0mfunc\u001b[0m\u001b[0;34m(\u001b[0m\u001b[0;34m*\u001b[0m\u001b[0margs\u001b[0m\u001b[0;34m,\u001b[0m \u001b[0;34m**\u001b[0m\u001b[0mkwargs\u001b[0m\u001b[0;34m)\u001b[0m\u001b[0;34m\u001b[0m\u001b[0;34m\u001b[0m\u001b[0m\n\u001b[0m\u001b[1;32m     36\u001b[0m     \u001b[0;32mreturn\u001b[0m \u001b[0mwrapper\u001b[0m\u001b[0;34m\u001b[0m\u001b[0;34m\u001b[0m\u001b[0m\n\u001b[1;32m     37\u001b[0m \u001b[0;34m\u001b[0m\u001b[0m\n",
            "\u001b[0;32m/usr/local/lib/python3.11/dist-packages/scipy/optimize/_cobyla_py.py\u001b[0m in \u001b[0;36m_minimize_cobyla\u001b[0;34m(fun, x0, args, constraints, rhobeg, tol, maxiter, disp, catol, callback, bounds, **unknown_options)\u001b[0m\n\u001b[1;32m    291\u001b[0m \u001b[0;34m\u001b[0m\u001b[0m\n\u001b[1;32m    292\u001b[0m     \u001b[0minfo\u001b[0m \u001b[0;34m=\u001b[0m \u001b[0mnp\u001b[0m\u001b[0;34m.\u001b[0m\u001b[0mzeros\u001b[0m\u001b[0;34m(\u001b[0m\u001b[0;36m4\u001b[0m\u001b[0;34m,\u001b[0m \u001b[0mnp\u001b[0m\u001b[0;34m.\u001b[0m\u001b[0mfloat64\u001b[0m\u001b[0;34m)\u001b[0m\u001b[0;34m\u001b[0m\u001b[0;34m\u001b[0m\u001b[0m\n\u001b[0;32m--> 293\u001b[0;31m     xopt, info = cobyla.minimize(calcfc, m=m, x=np.copy(x0), rhobeg=rhobeg,\n\u001b[0m\u001b[1;32m    294\u001b[0m                                   \u001b[0mrhoend\u001b[0m\u001b[0;34m=\u001b[0m\u001b[0mrhoend\u001b[0m\u001b[0;34m,\u001b[0m \u001b[0miprint\u001b[0m\u001b[0;34m=\u001b[0m\u001b[0miprint\u001b[0m\u001b[0;34m,\u001b[0m \u001b[0mmaxfun\u001b[0m\u001b[0;34m=\u001b[0m\u001b[0mmaxfun\u001b[0m\u001b[0;34m,\u001b[0m\u001b[0;34m\u001b[0m\u001b[0;34m\u001b[0m\u001b[0m\n\u001b[1;32m    295\u001b[0m                                   dinfo=info, callback=wrapped_callback)\n",
            "\u001b[0;32m/usr/local/lib/python3.11/dist-packages/scipy/optimize/_cobyla_py.py\u001b[0m in \u001b[0;36mcalcfc\u001b[0;34m(x, con)\u001b[0m\n\u001b[1;32m    279\u001b[0m \u001b[0;34m\u001b[0m\u001b[0m\n\u001b[1;32m    280\u001b[0m     \u001b[0;32mdef\u001b[0m \u001b[0mcalcfc\u001b[0m\u001b[0;34m(\u001b[0m\u001b[0mx\u001b[0m\u001b[0;34m,\u001b[0m \u001b[0mcon\u001b[0m\u001b[0;34m)\u001b[0m\u001b[0;34m:\u001b[0m\u001b[0;34m\u001b[0m\u001b[0;34m\u001b[0m\u001b[0m\n\u001b[0;32m--> 281\u001b[0;31m         \u001b[0mf\u001b[0m \u001b[0;34m=\u001b[0m \u001b[0msf\u001b[0m\u001b[0;34m.\u001b[0m\u001b[0mfun\u001b[0m\u001b[0;34m(\u001b[0m\u001b[0mx\u001b[0m\u001b[0;34m)\u001b[0m\u001b[0;34m\u001b[0m\u001b[0;34m\u001b[0m\u001b[0m\n\u001b[0m\u001b[1;32m    282\u001b[0m         \u001b[0mi\u001b[0m \u001b[0;34m=\u001b[0m \u001b[0;36m0\u001b[0m\u001b[0;34m\u001b[0m\u001b[0;34m\u001b[0m\u001b[0m\n\u001b[1;32m    283\u001b[0m         \u001b[0;32mfor\u001b[0m \u001b[0msize\u001b[0m\u001b[0;34m,\u001b[0m \u001b[0mc\u001b[0m \u001b[0;32min\u001b[0m \u001b[0mizip\u001b[0m\u001b[0;34m(\u001b[0m\u001b[0mcons_lengths\u001b[0m\u001b[0;34m,\u001b[0m \u001b[0mconstraints\u001b[0m\u001b[0;34m)\u001b[0m\u001b[0;34m:\u001b[0m\u001b[0;34m\u001b[0m\u001b[0;34m\u001b[0m\u001b[0m\n",
            "\u001b[0;32m/usr/local/lib/python3.11/dist-packages/scipy/optimize/_differentiable_functions.py\u001b[0m in \u001b[0;36mfun\u001b[0;34m(self, x)\u001b[0m\n\u001b[1;32m    276\u001b[0m         \u001b[0;32mif\u001b[0m \u001b[0;32mnot\u001b[0m \u001b[0mnp\u001b[0m\u001b[0;34m.\u001b[0m\u001b[0marray_equal\u001b[0m\u001b[0;34m(\u001b[0m\u001b[0mx\u001b[0m\u001b[0;34m,\u001b[0m \u001b[0mself\u001b[0m\u001b[0;34m.\u001b[0m\u001b[0mx\u001b[0m\u001b[0;34m)\u001b[0m\u001b[0;34m:\u001b[0m\u001b[0;34m\u001b[0m\u001b[0;34m\u001b[0m\u001b[0m\n\u001b[1;32m    277\u001b[0m             \u001b[0mself\u001b[0m\u001b[0;34m.\u001b[0m\u001b[0m_update_x_impl\u001b[0m\u001b[0;34m(\u001b[0m\u001b[0mx\u001b[0m\u001b[0;34m)\u001b[0m\u001b[0;34m\u001b[0m\u001b[0;34m\u001b[0m\u001b[0m\n\u001b[0;32m--> 278\u001b[0;31m         \u001b[0mself\u001b[0m\u001b[0;34m.\u001b[0m\u001b[0m_update_fun\u001b[0m\u001b[0;34m(\u001b[0m\u001b[0;34m)\u001b[0m\u001b[0;34m\u001b[0m\u001b[0;34m\u001b[0m\u001b[0m\n\u001b[0m\u001b[1;32m    279\u001b[0m         \u001b[0;32mreturn\u001b[0m \u001b[0mself\u001b[0m\u001b[0;34m.\u001b[0m\u001b[0mf\u001b[0m\u001b[0;34m\u001b[0m\u001b[0;34m\u001b[0m\u001b[0m\n\u001b[1;32m    280\u001b[0m \u001b[0;34m\u001b[0m\u001b[0m\n",
            "\u001b[0;32m/usr/local/lib/python3.11/dist-packages/scipy/optimize/_differentiable_functions.py\u001b[0m in \u001b[0;36m_update_fun\u001b[0;34m(self)\u001b[0m\n\u001b[1;32m    260\u001b[0m     \u001b[0;32mdef\u001b[0m \u001b[0m_update_fun\u001b[0m\u001b[0;34m(\u001b[0m\u001b[0mself\u001b[0m\u001b[0;34m)\u001b[0m\u001b[0;34m:\u001b[0m\u001b[0;34m\u001b[0m\u001b[0;34m\u001b[0m\u001b[0m\n\u001b[1;32m    261\u001b[0m         \u001b[0;32mif\u001b[0m \u001b[0;32mnot\u001b[0m \u001b[0mself\u001b[0m\u001b[0;34m.\u001b[0m\u001b[0mf_updated\u001b[0m\u001b[0;34m:\u001b[0m\u001b[0;34m\u001b[0m\u001b[0;34m\u001b[0m\u001b[0m\n\u001b[0;32m--> 262\u001b[0;31m             \u001b[0mself\u001b[0m\u001b[0;34m.\u001b[0m\u001b[0m_update_fun_impl\u001b[0m\u001b[0;34m(\u001b[0m\u001b[0;34m)\u001b[0m\u001b[0;34m\u001b[0m\u001b[0;34m\u001b[0m\u001b[0m\n\u001b[0m\u001b[1;32m    263\u001b[0m             \u001b[0mself\u001b[0m\u001b[0;34m.\u001b[0m\u001b[0mf_updated\u001b[0m \u001b[0;34m=\u001b[0m \u001b[0;32mTrue\u001b[0m\u001b[0;34m\u001b[0m\u001b[0;34m\u001b[0m\u001b[0m\n\u001b[1;32m    264\u001b[0m \u001b[0;34m\u001b[0m\u001b[0m\n",
            "\u001b[0;32m/usr/local/lib/python3.11/dist-packages/scipy/optimize/_differentiable_functions.py\u001b[0m in \u001b[0;36mupdate_fun\u001b[0;34m()\u001b[0m\n\u001b[1;32m    161\u001b[0m \u001b[0;34m\u001b[0m\u001b[0m\n\u001b[1;32m    162\u001b[0m         \u001b[0;32mdef\u001b[0m \u001b[0mupdate_fun\u001b[0m\u001b[0;34m(\u001b[0m\u001b[0;34m)\u001b[0m\u001b[0;34m:\u001b[0m\u001b[0;34m\u001b[0m\u001b[0;34m\u001b[0m\u001b[0m\n\u001b[0;32m--> 163\u001b[0;31m             \u001b[0mself\u001b[0m\u001b[0;34m.\u001b[0m\u001b[0mf\u001b[0m \u001b[0;34m=\u001b[0m \u001b[0mfun_wrapped\u001b[0m\u001b[0;34m(\u001b[0m\u001b[0mself\u001b[0m\u001b[0;34m.\u001b[0m\u001b[0mx\u001b[0m\u001b[0;34m)\u001b[0m\u001b[0;34m\u001b[0m\u001b[0;34m\u001b[0m\u001b[0m\n\u001b[0m\u001b[1;32m    164\u001b[0m \u001b[0;34m\u001b[0m\u001b[0m\n\u001b[1;32m    165\u001b[0m         \u001b[0mself\u001b[0m\u001b[0;34m.\u001b[0m\u001b[0m_update_fun_impl\u001b[0m \u001b[0;34m=\u001b[0m \u001b[0mupdate_fun\u001b[0m\u001b[0;34m\u001b[0m\u001b[0;34m\u001b[0m\u001b[0m\n",
            "\u001b[0;32m/usr/local/lib/python3.11/dist-packages/scipy/optimize/_differentiable_functions.py\u001b[0m in \u001b[0;36mfun_wrapped\u001b[0;34m(x)\u001b[0m\n\u001b[1;32m    143\u001b[0m             \u001b[0;31m# Overwriting results in undefined behaviour because\u001b[0m\u001b[0;34m\u001b[0m\u001b[0;34m\u001b[0m\u001b[0m\n\u001b[1;32m    144\u001b[0m             \u001b[0;31m# fun(self.x) will change self.x, with the two no longer linked.\u001b[0m\u001b[0;34m\u001b[0m\u001b[0;34m\u001b[0m\u001b[0m\n\u001b[0;32m--> 145\u001b[0;31m             \u001b[0mfx\u001b[0m \u001b[0;34m=\u001b[0m \u001b[0mfun\u001b[0m\u001b[0;34m(\u001b[0m\u001b[0mnp\u001b[0m\u001b[0;34m.\u001b[0m\u001b[0mcopy\u001b[0m\u001b[0;34m(\u001b[0m\u001b[0mx\u001b[0m\u001b[0;34m)\u001b[0m\u001b[0;34m,\u001b[0m \u001b[0;34m*\u001b[0m\u001b[0margs\u001b[0m\u001b[0;34m)\u001b[0m\u001b[0;34m\u001b[0m\u001b[0;34m\u001b[0m\u001b[0m\n\u001b[0m\u001b[1;32m    146\u001b[0m             \u001b[0;31m# Make sure the function returns a true scalar\u001b[0m\u001b[0;34m\u001b[0m\u001b[0;34m\u001b[0m\u001b[0m\n\u001b[1;32m    147\u001b[0m             \u001b[0;32mif\u001b[0m \u001b[0;32mnot\u001b[0m \u001b[0mnp\u001b[0m\u001b[0;34m.\u001b[0m\u001b[0misscalar\u001b[0m\u001b[0;34m(\u001b[0m\u001b[0mfx\u001b[0m\u001b[0;34m)\u001b[0m\u001b[0;34m:\u001b[0m\u001b[0;34m\u001b[0m\u001b[0;34m\u001b[0m\u001b[0m\n",
            "\u001b[0;32m<ipython-input-20-f7d39d6c1add>\u001b[0m in \u001b[0;36mfunction\u001b[0;34m(angles)\u001b[0m\n\u001b[1;32m      2\u001b[0m          sim=AerSimulator(device='GPU', max_parallel_shots=0, max_parallel_threads=0)):\n\u001b[1;32m      3\u001b[0m     \u001b[0;32mdef\u001b[0m \u001b[0mfunction\u001b[0m\u001b[0;34m(\u001b[0m\u001b[0mangles\u001b[0m\u001b[0;34m:\u001b[0m\u001b[0mnp\u001b[0m\u001b[0;34m.\u001b[0m\u001b[0marray\u001b[0m\u001b[0;34m)\u001b[0m\u001b[0;34m:\u001b[0m\u001b[0;34m\u001b[0m\u001b[0;34m\u001b[0m\u001b[0m\n\u001b[0;32m----> 4\u001b[0;31m         \u001b[0;32mreturn\u001b[0m \u001b[0mHoLCUs_evaluator\u001b[0m\u001b[0;34m(\u001b[0m\u001b[0mangles\u001b[0m\u001b[0;34m,\u001b[0m \u001b[0mqc\u001b[0m\u001b[0;34m,\u001b[0m \u001b[0mnormalization\u001b[0m\u001b[0;34m,\u001b[0m \u001b[0mshots\u001b[0m\u001b[0;34m=\u001b[0m\u001b[0mshots\u001b[0m\u001b[0;34m,\u001b[0m \u001b[0msim\u001b[0m\u001b[0;34m=\u001b[0m\u001b[0msim\u001b[0m\u001b[0;34m)\u001b[0m\u001b[0;34m\u001b[0m\u001b[0;34m\u001b[0m\u001b[0m\n\u001b[0m\u001b[1;32m      5\u001b[0m     \u001b[0;32mreturn\u001b[0m \u001b[0mfunction\u001b[0m\u001b[0;34m\u001b[0m\u001b[0;34m\u001b[0m\u001b[0m\n",
            "\u001b[0;32m<ipython-input-17-d77041e2af3b>\u001b[0m in \u001b[0;36mHoLCUs_evaluator\u001b[0;34m(angles, qc, normalization, shots, sim)\u001b[0m\n\u001b[1;32m     16\u001b[0m     \u001b[0mqa\u001b[0m \u001b[0;34m=\u001b[0m \u001b[0mqc\u001b[0m\u001b[0;34m.\u001b[0m\u001b[0massign_parameters\u001b[0m\u001b[0;34m(\u001b[0m\u001b[0mangles\u001b[0m\u001b[0;34m,\u001b[0m \u001b[0minplace\u001b[0m\u001b[0;34m=\u001b[0m\u001b[0;32mFalse\u001b[0m\u001b[0;34m)\u001b[0m\u001b[0;34m\u001b[0m\u001b[0;34m\u001b[0m\u001b[0m\n\u001b[1;32m     17\u001b[0m \u001b[0;34m\u001b[0m\u001b[0m\n\u001b[0;32m---> 18\u001b[0;31m     \u001b[0mcounts_dict\u001b[0m \u001b[0;34m=\u001b[0m \u001b[0msim\u001b[0m\u001b[0;34m.\u001b[0m\u001b[0mrun\u001b[0m\u001b[0;34m(\u001b[0m\u001b[0mqa\u001b[0m\u001b[0;34m,\u001b[0m \u001b[0mshots\u001b[0m\u001b[0;34m=\u001b[0m\u001b[0mshots\u001b[0m\u001b[0;34m)\u001b[0m\u001b[0;34m.\u001b[0m\u001b[0mresult\u001b[0m\u001b[0;34m(\u001b[0m\u001b[0;34m)\u001b[0m\u001b[0;34m.\u001b[0m\u001b[0mget_counts\u001b[0m\u001b[0;34m(\u001b[0m\u001b[0;34m)\u001b[0m\u001b[0;34m\u001b[0m\u001b[0;34m\u001b[0m\u001b[0m\n\u001b[0m\u001b[1;32m     19\u001b[0m \u001b[0;34m\u001b[0m\u001b[0m\n\u001b[1;32m     20\u001b[0m     \u001b[0;31m# Expected value\u001b[0m\u001b[0;34m\u001b[0m\u001b[0;34m\u001b[0m\u001b[0m\n",
            "\u001b[0;32m/usr/local/lib/python3.11/dist-packages/qiskit_aer/jobs/utils.py\u001b[0m in \u001b[0;36m_wrapper\u001b[0;34m(self, *args, **kwargs)\u001b[0m\n\u001b[1;32m     36\u001b[0m         \u001b[0;32mif\u001b[0m \u001b[0mself\u001b[0m\u001b[0;34m.\u001b[0m\u001b[0m_future\u001b[0m \u001b[0;32mis\u001b[0m \u001b[0;32mNone\u001b[0m\u001b[0;34m:\u001b[0m\u001b[0;34m\u001b[0m\u001b[0;34m\u001b[0m\u001b[0m\n\u001b[1;32m     37\u001b[0m             \u001b[0;32mraise\u001b[0m \u001b[0mJobError\u001b[0m\u001b[0;34m(\u001b[0m\u001b[0;34m\"Job not submitted yet!. You have to .submit() first!\"\u001b[0m\u001b[0;34m)\u001b[0m\u001b[0;34m\u001b[0m\u001b[0;34m\u001b[0m\u001b[0m\n\u001b[0;32m---> 38\u001b[0;31m         \u001b[0;32mreturn\u001b[0m \u001b[0mfunc\u001b[0m\u001b[0;34m(\u001b[0m\u001b[0mself\u001b[0m\u001b[0;34m,\u001b[0m \u001b[0;34m*\u001b[0m\u001b[0margs\u001b[0m\u001b[0;34m,\u001b[0m \u001b[0;34m**\u001b[0m\u001b[0mkwargs\u001b[0m\u001b[0;34m)\u001b[0m\u001b[0;34m\u001b[0m\u001b[0;34m\u001b[0m\u001b[0m\n\u001b[0m\u001b[1;32m     39\u001b[0m \u001b[0;34m\u001b[0m\u001b[0m\n\u001b[1;32m     40\u001b[0m     \u001b[0;32mreturn\u001b[0m \u001b[0m_wrapper\u001b[0m\u001b[0;34m\u001b[0m\u001b[0;34m\u001b[0m\u001b[0m\n",
            "\u001b[0;32m/usr/local/lib/python3.11/dist-packages/qiskit_aer/jobs/aerjob.py\u001b[0m in \u001b[0;36mresult\u001b[0;34m(self, timeout)\u001b[0m\n\u001b[1;32m     94\u001b[0m             \u001b[0mconcurrent\u001b[0m\u001b[0;34m.\u001b[0m\u001b[0mfutures\u001b[0m\u001b[0;34m.\u001b[0m\u001b[0mCancelledError\u001b[0m\u001b[0;34m:\u001b[0m \u001b[0;32mif\u001b[0m \u001b[0mjob\u001b[0m \u001b[0mcancelled\u001b[0m \u001b[0mbefore\u001b[0m \u001b[0mcompleted\u001b[0m\u001b[0;34m.\u001b[0m\u001b[0;34m\u001b[0m\u001b[0;34m\u001b[0m\u001b[0m\n\u001b[1;32m     95\u001b[0m         \"\"\"\n\u001b[0;32m---> 96\u001b[0;31m         \u001b[0;32mreturn\u001b[0m \u001b[0mself\u001b[0m\u001b[0;34m.\u001b[0m\u001b[0m_future\u001b[0m\u001b[0;34m.\u001b[0m\u001b[0mresult\u001b[0m\u001b[0;34m(\u001b[0m\u001b[0mtimeout\u001b[0m\u001b[0;34m=\u001b[0m\u001b[0mtimeout\u001b[0m\u001b[0;34m)\u001b[0m\u001b[0;34m\u001b[0m\u001b[0;34m\u001b[0m\u001b[0m\n\u001b[0m\u001b[1;32m     97\u001b[0m \u001b[0;34m\u001b[0m\u001b[0m\n\u001b[1;32m     98\u001b[0m     \u001b[0;34m@\u001b[0m\u001b[0mrequires_submit\u001b[0m\u001b[0;34m\u001b[0m\u001b[0;34m\u001b[0m\u001b[0m\n",
            "\u001b[0;32m/usr/lib/python3.11/concurrent/futures/_base.py\u001b[0m in \u001b[0;36mresult\u001b[0;34m(self, timeout)\u001b[0m\n\u001b[1;32m    449\u001b[0m                     \u001b[0;32mreturn\u001b[0m \u001b[0mself\u001b[0m\u001b[0;34m.\u001b[0m\u001b[0m__get_result\u001b[0m\u001b[0;34m(\u001b[0m\u001b[0;34m)\u001b[0m\u001b[0;34m\u001b[0m\u001b[0;34m\u001b[0m\u001b[0m\n\u001b[1;32m    450\u001b[0m \u001b[0;34m\u001b[0m\u001b[0m\n\u001b[0;32m--> 451\u001b[0;31m                 \u001b[0mself\u001b[0m\u001b[0;34m.\u001b[0m\u001b[0m_condition\u001b[0m\u001b[0;34m.\u001b[0m\u001b[0mwait\u001b[0m\u001b[0;34m(\u001b[0m\u001b[0mtimeout\u001b[0m\u001b[0;34m)\u001b[0m\u001b[0;34m\u001b[0m\u001b[0;34m\u001b[0m\u001b[0m\n\u001b[0m\u001b[1;32m    452\u001b[0m \u001b[0;34m\u001b[0m\u001b[0m\n\u001b[1;32m    453\u001b[0m                 \u001b[0;32mif\u001b[0m \u001b[0mself\u001b[0m\u001b[0;34m.\u001b[0m\u001b[0m_state\u001b[0m \u001b[0;32min\u001b[0m \u001b[0;34m[\u001b[0m\u001b[0mCANCELLED\u001b[0m\u001b[0;34m,\u001b[0m \u001b[0mCANCELLED_AND_NOTIFIED\u001b[0m\u001b[0;34m]\u001b[0m\u001b[0;34m:\u001b[0m\u001b[0;34m\u001b[0m\u001b[0;34m\u001b[0m\u001b[0m\n",
            "\u001b[0;32m/usr/lib/python3.11/threading.py\u001b[0m in \u001b[0;36mwait\u001b[0;34m(self, timeout)\u001b[0m\n\u001b[1;32m    325\u001b[0m         \u001b[0;32mtry\u001b[0m\u001b[0;34m:\u001b[0m    \u001b[0;31m# restore state no matter what (e.g., KeyboardInterrupt)\u001b[0m\u001b[0;34m\u001b[0m\u001b[0;34m\u001b[0m\u001b[0m\n\u001b[1;32m    326\u001b[0m             \u001b[0;32mif\u001b[0m \u001b[0mtimeout\u001b[0m \u001b[0;32mis\u001b[0m \u001b[0;32mNone\u001b[0m\u001b[0;34m:\u001b[0m\u001b[0;34m\u001b[0m\u001b[0;34m\u001b[0m\u001b[0m\n\u001b[0;32m--> 327\u001b[0;31m                 \u001b[0mwaiter\u001b[0m\u001b[0;34m.\u001b[0m\u001b[0macquire\u001b[0m\u001b[0;34m(\u001b[0m\u001b[0;34m)\u001b[0m\u001b[0;34m\u001b[0m\u001b[0;34m\u001b[0m\u001b[0m\n\u001b[0m\u001b[1;32m    328\u001b[0m                 \u001b[0mgotit\u001b[0m \u001b[0;34m=\u001b[0m \u001b[0;32mTrue\u001b[0m\u001b[0;34m\u001b[0m\u001b[0;34m\u001b[0m\u001b[0m\n\u001b[1;32m    329\u001b[0m             \u001b[0;32melse\u001b[0m\u001b[0;34m:\u001b[0m\u001b[0;34m\u001b[0m\u001b[0;34m\u001b[0m\u001b[0m\n",
            "\u001b[0;31mKeyboardInterrupt\u001b[0m: "
          ]
        }
      ]
    },
    {
      "cell_type": "markdown",
      "source": [
        "# Plots"
      ],
      "metadata": {
        "id": "fe1YOOJlut7L"
      }
    },
    {
      "cell_type": "code",
      "source": [
        "data_normal1 = np.loadtxt('/content/drive/MyDrive/QAOA_HLCU/normal_layers_1')\n",
        "data_normal2 = np.loadtxt('/content/drive/MyDrive/QAOA_HLCU/normal_layers_2')\n",
        "data_normal3 = np.loadtxt('/content/drive/MyDrive/QAOA_HLCU/normal_layers_3')\n",
        "\n",
        "data_HoLCUs1 = np.loadtxt('/content/drive/MyDrive/QAOA_HLCU/HoLCUs_layers_1')\n",
        "data_HoLCUs2 = np.loadtxt('/content/drive/MyDrive/QAOA_HLCU/HoLCUs_layers_2')\n",
        "data_HoLCUs3 = np.loadtxt('/content/drive/MyDrive/QAOA_HLCU/HoLCUs_layers_3')\n",
        "\n",
        "# The n values\n",
        "x_n = [3+_//5 for _ in range(len(data_normal1))]\n",
        "\n",
        "plt.figure('Time_vs_n', dpi=300, figsize=(6,4))\n",
        "plt.xlabel(r'$n$', fontsize=20); plt.ylabel(r'$t(s)$', fontsize=20)\n",
        "\n",
        "plt.plot(x_n, data_normal1, 'or', mec='black', label='normal p=1')\n",
        "plt.plot(x_n, data_normal2, '*g', mec='black', label='normal p=2')\n",
        "plt.plot(x_n, data_normal3, 's', color = 'blue', mec='black', label='normal p=3')\n",
        "\n",
        "\n",
        "plt.plot(x_n, data_HoLCUs1, '^', color='orange', mec='black', label='HoLCUs p=1')\n",
        "plt.plot(x_n, data_HoLCUs2, 'v', color='olive', mec='black', label='HoLCUs p=2')\n",
        "plt.plot(x_n, data_HoLCUs3, 'p', color = 'purple', mec='black', label='HoLCUs p=3')\n",
        "\n",
        "plt.legend();plt.yscale('log')\n",
        "plt.tight_layout()\n",
        "\n",
        "plt.savefig('/content/drive/MyDrive/QAOA_HLCU/Time_vs_n.pdf'); plt.show()\n"
      ],
      "metadata": {
        "colab": {
          "base_uri": "https://localhost:8080/",
          "height": 952
        },
        "id": "WVWQVjRNLZGm",
        "outputId": "63951a90-0c7e-4fb4-f8c0-57d5fbbf2c11"
      },
      "execution_count": null,
      "outputs": [
        {
          "output_type": "display_data",
          "data": {
            "text/plain": [
              "<Figure size 1800x1200 with 1 Axes>"
            ],
            "image/png": "[encoded data removed]"
          },
          "metadata": {}
        }
      ]
    },
    {
      "cell_type": "code",
      "source": [
        "data_normal1 = np.loadtxt('/content/drive/MyDrive/QAOA_HLCU/normal_layers_1')\n",
        "data_normal2 = np.loadtxt('/content/drive/MyDrive/QAOA_HLCU/normal_layers_2')\n",
        "data_normal3 = np.loadtxt('/content/drive/MyDrive/QAOA_HLCU/normal_layers_3')\n",
        "\n",
        "data_HoLCUs1 = np.loadtxt('/content/drive/MyDrive/QAOA_HLCU/HoLCUs_layers_1')\n",
        "data_HoLCUs2 = np.loadtxt('/content/drive/MyDrive/QAOA_HLCU/HoLCUs_layers_2')\n",
        "data_HoLCUs3 = np.loadtxt('/content/drive/MyDrive/QAOA_HLCU/HoLCUs_layers_3')\n",
        "\n",
        "# The n values\n",
        "x_n = [3+_//5 for _ in range(len(data_normal1))]\n",
        "\n",
        "plt.figure('Time_vs_n_Accel', dpi=300, figsize=(6,4))\n",
        "plt.xlabel(r'$n$', fontsize=20); plt.ylabel(r'$t_N/t_{HoLCUs}$', fontsize=20)\n",
        "\n",
        "plt.plot(x_n, data_normal1/data_HoLCUs1, 'or', mec='black', label=r'$p=1$')\n",
        "plt.plot(x_n, data_normal2/data_HoLCUs2, '*g', mec='black', label=r'$p=2$')\n",
        "plt.plot(x_n, data_normal3/data_HoLCUs3, 's', color = 'blue', mec='black', label=r'$p=3$')\n",
        "\n",
        "plt.legend()#;plt.yscale('log')\n",
        "plt.tight_layout()\n",
        "\n",
        "plt.savefig('/content/drive/MyDrive/QAOA_HLCU/Time_vs_n_Accel.pdf'); plt.show()"
      ],
      "metadata": {
        "colab": {
          "base_uri": "https://localhost:8080/",
          "height": 950
        },
        "id": "Wy_8lTu9eKY0",
        "outputId": "831c6bfa-f5b7-46e6-d959-158e36e768f2"
      },
      "execution_count": null,
      "outputs": [
        {
          "output_type": "display_data",
          "data": {
            "text/plain": [
              "<Figure size 1800x1200 with 1 Axes>"
            ],
            "image/png": "[encoded data removed]"
          },
          "metadata": {}
        }
      ]
    },
    {
      "cell_type": "code",
      "source": [
        "data_HoLCUs = np.loadtxt('/content/drive/MyDrive/QAOA_HLCU/HoLCUs_final')\n",
        "\n",
        "# The n values\n",
        "y_n = [3+_//10 for _ in range(len(data_HoLCUs))]\n",
        "\n",
        "plt.figure('Time_HoLCUs_vs_n', dpi=300, figsize=(6,4))\n",
        "plt.xlabel(r'$n$', fontsize=20); plt.ylabel(r'$t(s)$', fontsize=20)\n",
        "\n",
        "plt.plot(y_n, data_HoLCUs, 'or', mec='black')\n",
        "plt.yscale('log')\n",
        "plt.tight_layout()\n",
        "\n",
        "plt.savefig('/content/drive/MyDrive/QAOA_HLCU/Time_HoLCUs_vs_n.pdf'); plt.show()"
      ],
      "metadata": {
        "colab": {
          "base_uri": "https://localhost:8080/",
          "height": 951
        },
        "id": "IRAHfEXwwjT1",
        "outputId": "a13677cc-2e4d-4a9b-8d61-39d2e7e46769"
      },
      "execution_count": null,
      "outputs": [
        {
          "output_type": "display_data",
          "data": {
            "text/plain": [
              "<Figure size 1800x1200 with 1 Axes>"
            ],
            "image/png": "[encoded data removed]"
          },
          "metadata": {}
        }
      ]
    }
  ]
}